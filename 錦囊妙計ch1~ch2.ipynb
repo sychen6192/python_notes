{
 "cells": [
  {
   "cell_type": "markdown",
   "metadata": {},
   "source": [
    "### 產生稀疏矩陣"
   ]
  },
  {
   "cell_type": "code",
   "execution_count": 6,
   "metadata": {},
   "outputs": [
    {
     "name": "stdout",
     "output_type": "stream",
     "text": [
      "  (1, 1)\t1\n",
      "  (2, 0)\t3\n"
     ]
    }
   ],
   "source": [
    "import numpy as np\n",
    "from scipy import sparse\n",
    "\n",
    "matrix = np.array([[0, 0],\n",
    "                  [0, 1],\n",
    "                  [3, 0]])\n",
    "# 產生壓縮稀數列 只會儲存非0的元素值\n",
    "matrix_sparse = sparse.csr_matrix(matrix)\n",
    "print(matrix_sparse)"
   ]
  },
  {
   "cell_type": "code",
   "execution_count": 9,
   "metadata": {},
   "outputs": [
    {
     "data": {
      "text/plain": [
       "2"
      ]
     },
     "execution_count": 9,
     "metadata": {},
     "output_type": "execute_result"
    }
   ],
   "source": [
    "matrix.shape # (列, 行)\n",
    "matrix.size  # (列*行)\n",
    "matrix.ndim  #　維度"
   ]
  },
  {
   "cell_type": "markdown",
   "metadata": {},
   "source": [
    "### 函式向量化"
   ]
  },
  {
   "cell_type": "code",
   "execution_count": 14,
   "metadata": {},
   "outputs": [
    {
     "data": {
      "text/plain": [
       "array([[100, 100],\n",
       "       [100, 101],\n",
       "       [103, 100]])"
      ]
     },
     "execution_count": 14,
     "metadata": {},
     "output_type": "execute_result"
    }
   ],
   "source": [
    "add_100 = lambda i :i+100\n",
    "vectorized_add_100 = np.vectorize(add_100)\n",
    "vectorized_add_100(matrix)\n",
    "# 或是\n",
    "matrix+100"
   ]
  },
  {
   "cell_type": "markdown",
   "metadata": {},
   "source": [
    "### 陣列比大小"
   ]
  },
  {
   "cell_type": "code",
   "execution_count": 23,
   "metadata": {},
   "outputs": [
    {
     "data": {
      "text/plain": [
       "1.1055415967851334"
      ]
     },
     "execution_count": 23,
     "metadata": {},
     "output_type": "execute_result"
    }
   ],
   "source": [
    "np.max(matrix)\n",
    "# 每行列比較\n",
    "np.max(matrix, axis=0)\n",
    "np.max(matrix, axis=1)\n",
    "np.min(matrix)\n",
    "np.mean(matrix)\n",
    "np.var(matrix)\n",
    "np.std(matrix)"
   ]
  },
  {
   "cell_type": "markdown",
   "metadata": {},
   "source": [
    "### Reshape"
   ]
  },
  {
   "cell_type": "code",
   "execution_count": 25,
   "metadata": {},
   "outputs": [
    {
     "data": {
      "text/plain": [
       "array([[ 1,  2,  3,  4,  5,  6],\n",
       "       [ 7,  8,  9, 10, 11, 12]])"
      ]
     },
     "execution_count": 25,
     "metadata": {},
     "output_type": "execute_result"
    }
   ],
   "source": [
    "# size要相等才能相互reshape\n",
    "matrix = np.array([[1, 2, 3],\n",
    "                  [4, 5, 6],\n",
    "                  [7, 8, 9],\n",
    "                  [10, 11, 12]])\n",
    "matrix = matrix.reshape(2, 6)\n",
    "matrix"
   ]
  },
  {
   "cell_type": "markdown",
   "metadata": {},
   "source": [
    "### transpose"
   ]
  },
  {
   "cell_type": "code",
   "execution_count": 26,
   "metadata": {},
   "outputs": [
    {
     "data": {
      "text/plain": [
       "array([[ 1,  7],\n",
       "       [ 2,  8],\n",
       "       [ 3,  9],\n",
       "       [ 4, 10],\n",
       "       [ 5, 11],\n",
       "       [ 6, 12]])"
      ]
     },
     "execution_count": 26,
     "metadata": {},
     "output_type": "execute_result"
    }
   ],
   "source": [
    "matrix.T"
   ]
  },
  {
   "cell_type": "code",
   "execution_count": 27,
   "metadata": {},
   "outputs": [
    {
     "data": {
      "text/plain": [
       "array([1, 2, 3, 4, 5, 6])"
      ]
     },
     "execution_count": 27,
     "metadata": {},
     "output_type": "execute_result"
    }
   ],
   "source": [
    "np.array([1, 2, 3, 4, 5, 6]).T"
   ]
  },
  {
   "cell_type": "code",
   "execution_count": 28,
   "metadata": {},
   "outputs": [
    {
     "data": {
      "text/plain": [
       "array([[[1]],\n",
       "\n",
       "       [[2]],\n",
       "\n",
       "       [[3]],\n",
       "\n",
       "       [[4]],\n",
       "\n",
       "       [[5]],\n",
       "\n",
       "       [[6]]])"
      ]
     },
     "execution_count": 28,
     "metadata": {},
     "output_type": "execute_result"
    }
   ],
   "source": [
    "np.array([[[1, 2, 3, 4, 5, 6]]]).T"
   ]
  },
  {
   "cell_type": "markdown",
   "metadata": {},
   "source": [
    "### Flatten"
   ]
  },
  {
   "cell_type": "code",
   "execution_count": 31,
   "metadata": {},
   "outputs": [
    {
     "data": {
      "text/plain": [
       "array([[ 1,  2,  3,  4,  5,  6,  7,  8,  9, 10, 11, 12]])"
      ]
     },
     "execution_count": 31,
     "metadata": {},
     "output_type": "execute_result"
    }
   ],
   "source": [
    "matrix.flatten()\n",
    "matrix.reshape(1, -1)"
   ]
  },
  {
   "cell_type": "markdown",
   "metadata": {},
   "source": [
    "### 找出矩陣的秩"
   ]
  },
  {
   "cell_type": "code",
   "execution_count": 33,
   "metadata": {},
   "outputs": [
    {
     "data": {
      "text/plain": [
       "2"
      ]
     },
     "execution_count": 33,
     "metadata": {},
     "output_type": "execute_result"
    }
   ],
   "source": [
    "matrix = np.array([[1, 2, 3],\n",
    "                  [4, 5, 6],\n",
    "                  [7, 8, 9]])\n",
    "np.linalg.matrix_rank(matrix)"
   ]
  },
  {
   "cell_type": "markdown",
   "metadata": {},
   "source": [
    "### 行列式計算"
   ]
  },
  {
   "cell_type": "code",
   "execution_count": 35,
   "metadata": {},
   "outputs": [
    {
     "data": {
      "text/plain": [
       "0.0"
      ]
     },
     "execution_count": 35,
     "metadata": {},
     "output_type": "execute_result"
    }
   ],
   "source": [
    "matrix = np.array([[1, 2, 3],\n",
    "                   [2, 4, 6],\n",
    "                   [3, 8, 9]])\n",
    "np.linalg.det(matrix)"
   ]
  },
  {
   "cell_type": "markdown",
   "metadata": {},
   "source": [
    "### 取得對角線"
   ]
  },
  {
   "cell_type": "code",
   "execution_count": 43,
   "metadata": {},
   "outputs": [
    {
     "data": {
      "text/plain": [
       "array([1, 4, 9])"
      ]
     },
     "execution_count": 43,
     "metadata": {},
     "output_type": "execute_result"
    }
   ],
   "source": [
    "matrix = np.array([[1, 2, 3],\n",
    "                   [2, 4, 6],\n",
    "                   [3, 8, 9]])\n",
    "matrix.diagonal()"
   ]
  },
  {
   "cell_type": "code",
   "execution_count": 44,
   "metadata": {},
   "outputs": [
    {
     "data": {
      "text/plain": [
       "array([2, 6])"
      ]
     },
     "execution_count": 44,
     "metadata": {},
     "output_type": "execute_result"
    }
   ],
   "source": [
    "matrix.diagonal(offset=1) # 對角線上"
   ]
  },
  {
   "cell_type": "code",
   "execution_count": 46,
   "metadata": {},
   "outputs": [
    {
     "data": {
      "text/plain": [
       "array([2, 8])"
      ]
     },
     "execution_count": 46,
     "metadata": {},
     "output_type": "execute_result"
    }
   ],
   "source": [
    "matrix.diagonal(offset=-1) #對角線下"
   ]
  },
  {
   "cell_type": "markdown",
   "metadata": {},
   "source": [
    "### Trace"
   ]
  },
  {
   "cell_type": "code",
   "execution_count": 49,
   "metadata": {},
   "outputs": [
    {
     "data": {
      "text/plain": [
       "14"
      ]
     },
     "execution_count": 49,
     "metadata": {},
     "output_type": "execute_result"
    }
   ],
   "source": [
    "matrix.trace() # 對角線和\n",
    "sum(matrix.diagonal())"
   ]
  },
  {
   "cell_type": "markdown",
   "metadata": {},
   "source": [
    "### 特徵值與特徵向量計算"
   ]
  },
  {
   "cell_type": "code",
   "execution_count": 50,
   "metadata": {},
   "outputs": [],
   "source": [
    "matrix = np.array([[1, -1, 3],\n",
    "                  [1, 1, 6],\n",
    "                  [3, 8, 9]])\n",
    "eigenvalues, eigenvectors = np.linalg.eig(matrix)"
   ]
  },
  {
   "cell_type": "code",
   "execution_count": 56,
   "metadata": {},
   "outputs": [
    {
     "name": "stdout",
     "output_type": "stream",
     "text": [
      "[13.55075847  0.74003145 -3.29078992]\n",
      "\n",
      "[[-0.17622017 -0.96677403 -0.53373322]\n",
      " [-0.435951    0.2053623  -0.64324848]\n",
      " [-0.88254925  0.15223105  0.54896288]]\n"
     ]
    }
   ],
   "source": [
    "print(eigenvalues)\n",
    "print()\n",
    "print(eigenvectors)"
   ]
  },
  {
   "cell_type": "markdown",
   "metadata": {},
   "source": [
    "### 點積, 加減法"
   ]
  },
  {
   "cell_type": "code",
   "execution_count": null,
   "metadata": {},
   "outputs": [],
   "source": [
    "np.dot(v_a, v_b) # v_a @ v_b\n",
    "# v_a * v_b 元素逐一相乘\n",
    "np.add(v_a, v_b) # v_a + v_b\n",
    "np.substract(v_a, v_b) # v_a - v_b"
   ]
  },
  {
   "cell_type": "markdown",
   "metadata": {},
   "source": [
    "### 反矩陣"
   ]
  },
  {
   "cell_type": "code",
   "execution_count": 61,
   "metadata": {},
   "outputs": [],
   "source": [
    "matrix = np.array([[1, 4], [2, 5]])"
   ]
  },
  {
   "cell_type": "code",
   "execution_count": 63,
   "metadata": {},
   "outputs": [
    {
     "data": {
      "text/plain": [
       "array([[-1.66666667,  1.33333333],\n",
       "       [ 0.66666667, -0.33333333]])"
      ]
     },
     "execution_count": 63,
     "metadata": {},
     "output_type": "execute_result"
    }
   ],
   "source": [
    "np.linalg.inv(matrix)"
   ]
  },
  {
   "cell_type": "code",
   "execution_count": 65,
   "metadata": {},
   "outputs": [
    {
     "data": {
      "text/plain": [
       "array([[1.00000000e+00, 0.00000000e+00],\n",
       "       [1.11022302e-16, 1.00000000e+00]])"
      ]
     },
     "execution_count": 65,
     "metadata": {},
     "output_type": "execute_result"
    }
   ],
   "source": [
    "matrix @ np.linalg.inv(matrix)"
   ]
  },
  {
   "cell_type": "markdown",
   "metadata": {},
   "source": [
    "### 亂數陣列"
   ]
  },
  {
   "cell_type": "code",
   "execution_count": 66,
   "metadata": {},
   "outputs": [
    {
     "data": {
      "text/plain": [
       "array([0.5488135 , 0.71518937, 0.60276338])"
      ]
     },
     "execution_count": 66,
     "metadata": {},
     "output_type": "execute_result"
    }
   ],
   "source": [
    "np.random.seed(0)\n",
    "np.random.random(3)\n",
    "np.random.ranint(0, 11, 3) # range(0,11) 取三個\n",
    "np.random.normal(0.0, 1.0, 3) # 常態分配 平均數0 標準差1 取三個\n",
    "np.random.logistic(0.0, 1.0, 3) # 邏輯分布 平均為0.0, 尺度為1.0 取三個\n",
    "np.random.uniform(1.0, 2.0, 3) # 1.0<=X<2.0 取三個"
   ]
  },
  {
   "cell_type": "markdown",
   "metadata": {},
   "source": [
    "# Chapter 2"
   ]
  },
  {
   "cell_type": "markdown",
   "metadata": {},
   "source": [
    "### 模擬資料集的產生(回歸/分類)"
   ]
  },
  {
   "cell_type": "code",
   "execution_count": 76,
   "metadata": {
    "collapsed": true
   },
   "outputs": [
    {
     "data": {
      "text/plain": [
       "(array([[ 1.06354768e+00, -1.42632219e+00,  1.02163151e+00],\n",
       "        [ 2.31569771e-01,  1.49535261e+00,  3.32515785e-01],\n",
       "        [ 1.59729509e-01,  8.35335154e-01, -4.08695544e-01],\n",
       "        [-7.06121328e-01, -1.03281003e+00,  1.39477986e+00],\n",
       "        [ 8.44490198e-01, -6.19971892e-01,  1.08791124e+00],\n",
       "        [ 5.59394552e-01, -1.45815378e+00,  1.47602390e+00],\n",
       "        [-2.34279989e+00, -8.62141541e-01, -7.02236503e-01],\n",
       "        [-5.02301432e-01, -1.11266501e+00,  9.94591165e-01],\n",
       "        [ 9.18051403e-01, -1.31813097e+00,  1.37672287e+00],\n",
       "        [-6.37174666e-01,  5.90888879e-01, -2.20412713e-01],\n",
       "        [ 1.27505434e+00,  1.81333214e+00, -1.76262615e-01],\n",
       "        [-8.44318348e-02, -8.41896666e-01,  1.27619816e+00],\n",
       "        [ 1.17033878e+00, -2.50462535e-01,  6.51088535e-02],\n",
       "        [ 1.86526206e+00, -1.44673919e+00,  5.82315275e-01],\n",
       "        [-4.51512990e-01, -1.00104693e+00,  1.42523865e+00],\n",
       "        [-1.52227032e+00, -9.58868332e-01,  9.82710762e-01],\n",
       "        [-7.51474297e-01, -9.71645767e-01,  9.59587901e-01],\n",
       "        [ 9.79144440e-01, -3.36999556e-01,  4.07143853e-01],\n",
       "        [ 8.86706299e-01, -1.18285338e+00,  1.49055825e+00],\n",
       "        [-1.29255057e+00, -8.91797450e-01, -1.40785868e-01],\n",
       "        [-1.78196613e+00, -8.84226984e-01,  6.61826443e-01],\n",
       "        [ 1.67813645e+00,  3.12535456e-01,  1.73399927e+00],\n",
       "        [ 1.42343127e+00, -1.36055919e+00,  1.18167125e+00],\n",
       "        [-6.08273048e-01, -1.97911139e-03, -8.38638903e-01],\n",
       "        [ 1.62503286e+00, -7.77760821e-02,  6.49323627e-01],\n",
       "        [-1.41111014e+00,  9.34041094e-01, -1.26198687e+00],\n",
       "        [-7.85218909e-01,  1.47094549e+00,  3.54287215e-01],\n",
       "        [ 6.00410573e-01, -8.65605360e-01,  9.94567937e-01],\n",
       "        [-5.99810034e-01, -1.14365370e+00,  1.62170864e+00],\n",
       "        [-2.42158085e+00, -1.16929799e+00,  2.71260488e-01],\n",
       "        [ 1.29394198e-02, -3.03153730e-01,  1.86106869e+00],\n",
       "        [-1.96923251e+00, -1.40473916e+00,  4.89942105e-01],\n",
       "        [ 1.36771802e+00, -1.99718176e+00,  1.97516758e+00],\n",
       "        [ 1.42680420e-01, -1.40515165e+00,  2.10428084e+00],\n",
       "        [ 1.45157163e+00,  6.25663673e-01,  1.84912249e+00],\n",
       "        [ 1.14379942e+00, -1.03861696e+00,  4.70762042e-01],\n",
       "        [ 6.56204846e-01, -1.07959994e+00,  1.18158608e+00],\n",
       "        [ 8.34747298e-01, -1.72715339e+00,  2.53452735e+00],\n",
       "        [ 8.97012252e-01, -1.13462882e+00,  1.46713706e+00],\n",
       "        [-7.50876328e-01,  1.29774238e-02,  8.41235764e-02],\n",
       "        [ 2.18627490e+00, -7.72690725e-01,  3.19723802e-01],\n",
       "        [ 1.13016990e+00, -2.62653708e-01,  1.12572143e+00],\n",
       "        [-1.51627324e+00, -1.50779533e+00,  1.99835804e-01],\n",
       "        [ 5.50063828e-01, -2.05242820e+00,  1.88342271e+00],\n",
       "        [ 1.55545556e+00, -5.61950906e-01,  4.42000299e-01],\n",
       "        [ 6.46315964e-01, -4.54484253e-01,  1.29521314e+00],\n",
       "        [-8.17144515e-01, -7.43980740e-01,  1.83296858e+00],\n",
       "        [ 6.68106986e-01, -3.93472459e-01,  1.87143851e+00],\n",
       "        [ 8.70827366e-01, -1.27353458e+00,  4.96468921e-01],\n",
       "        [ 5.80652681e-01, -1.63444675e+00,  1.85449968e+00],\n",
       "        [-9.61253919e-01, -1.96732581e+00,  1.43585626e+00],\n",
       "        [ 1.12610823e+00, -6.24802320e-01,  1.27124321e+00],\n",
       "        [ 1.19902439e+00,  7.18426566e-01,  7.34912716e-01],\n",
       "        [-4.91229422e-01, -7.92173445e-01,  1.26436684e+00],\n",
       "        [ 8.04844565e-02, -2.70380917e+00,  2.41298744e+00],\n",
       "        [-2.70999375e+00, -1.68896656e+00,  6.72376419e-01],\n",
       "        [ 1.30254895e+00, -1.29297524e-02,  5.61769368e-01],\n",
       "        [-2.33686970e+00,  6.82795463e-01, -2.00692730e+00],\n",
       "        [-1.73782517e+00,  2.13690514e+00, -2.16243270e+00],\n",
       "        [ 1.18385411e+00, -1.62250860e+00,  1.03400066e+00],\n",
       "        [-3.17244517e-01, -5.21746509e-01,  1.63865326e+00],\n",
       "        [-1.77253752e+00, -1.21398001e+00,  6.36577955e-01],\n",
       "        [ 1.39394227e+00,  6.52211049e-01,  1.95513822e+00],\n",
       "        [-1.01100072e-01, -1.24258559e+00,  1.16293046e+00],\n",
       "        [-2.33275215e-01, -1.27428253e+00,  1.42113022e+00],\n",
       "        [ 1.41088304e+00, -8.67906157e-02,  4.55987299e-01],\n",
       "        [-1.65421331e+00, -2.00472045e-01, -4.77938179e-02],\n",
       "        [ 1.05180063e+00, -1.94786850e+00,  1.53751741e+00],\n",
       "        [ 1.27294546e-01,  1.96878830e+00,  2.13708226e-01],\n",
       "        [ 6.36248267e-01, -1.12533943e+00,  1.68321341e+00],\n",
       "        [ 1.07722483e+00,  2.38861398e+00, -5.85568008e-01],\n",
       "        [-6.47509455e-01, -6.86416167e-01,  6.49068078e-01],\n",
       "        [-9.56385637e-02, -7.84608945e-01,  7.08673483e-01],\n",
       "        [-3.79657225e-01,  1.42529169e+00, -5.50634976e-01],\n",
       "        [ 1.64950863e+00, -6.95010397e-01,  4.62138607e-01],\n",
       "        [ 1.41857094e+00, -4.95259665e-01,  2.01068112e+00],\n",
       "        [-8.40552567e-01, -4.74231865e-01,  1.03450742e+00],\n",
       "        [-2.58501280e+00, -1.49017798e+00,  1.46526730e-01],\n",
       "        [ 1.39718477e+00, -4.16943750e-01,  9.15714993e-01],\n",
       "        [ 1.58507927e+00, -4.19350912e-01,  2.23623681e-01],\n",
       "        [-1.15756869e+00, -1.26592565e+00,  1.45523297e+00],\n",
       "        [-2.50510046e-01, -5.55087346e-02,  1.21318284e+00],\n",
       "        [-2.09578348e+00, -1.70342966e+00,  1.15280824e+00],\n",
       "        [ 9.93521344e-01, -1.24676718e+00,  1.52541126e+00],\n",
       "        [-1.07568849e+00,  1.77241160e-02,  3.07719573e-01],\n",
       "        [ 1.45085006e+00, -1.60853230e+00,  1.07534504e+00],\n",
       "        [-1.50578912e+00,  7.17757879e-01, -1.14772203e+00],\n",
       "        [-2.05138559e+00,  5.32160696e-01, -2.01013229e-01],\n",
       "        [ 1.39206480e+00,  2.03488471e-01,  1.80784740e-01],\n",
       "        [ 1.97371644e-01,  1.24901942e+00,  1.58570711e+00],\n",
       "        [-8.86532754e-01, -1.58356865e+00,  2.09202902e+00],\n",
       "        [ 1.15542253e-03, -4.39315891e-01,  8.15908401e-01],\n",
       "        [ 8.74065083e-02,  2.25918566e+00,  1.89187657e+00],\n",
       "        [ 1.35998713e+00, -8.16312669e-01,  4.43161822e-01],\n",
       "        [ 1.13310429e+00,  3.55571042e-01,  2.25386712e+00],\n",
       "        [ 1.10641096e+00, -1.61551585e+00,  1.60329579e+00],\n",
       "        [-2.43862320e+00, -1.78462959e+00,  5.00375675e-01],\n",
       "        [-1.30468982e+00, -1.65292563e+00,  9.92339722e-01],\n",
       "        [ 1.19020761e+00, -9.61064243e-01,  2.92125104e-01],\n",
       "        [-1.08804668e+00,  8.28037776e-01, -5.66882363e-01]]),\n",
       " array([1, 0, 0, 1, 1, 1, 0, 1, 1, 0, 0, 1, 1, 1, 1, 1, 1, 1, 1, 0, 1, 0,\n",
       "        1, 0, 0, 0, 0, 1, 1, 1, 1, 1, 1, 1, 1, 1, 1, 1, 1, 1, 1, 1, 1, 1,\n",
       "        1, 1, 1, 1, 1, 1, 1, 1, 0, 1, 1, 1, 1, 0, 0, 1, 1, 1, 0, 1, 1, 1,\n",
       "        1, 1, 0, 1, 0, 1, 1, 0, 1, 0, 1, 1, 1, 1, 1, 1, 1, 1, 1, 1, 0, 0,\n",
       "        1, 0, 1, 1, 0, 1, 0, 1, 1, 1, 1, 0]))"
      ]
     },
     "execution_count": 76,
     "metadata": {},
     "output_type": "execute_result"
    }
   ],
   "source": [
    "from sklearn.datasets import make_regression, make_classification\n",
    "make_regression(n_samples=100,n_features=3, n_informative=3, n_targets=1, noise=0.0, coef=True, random_state=1)\n",
    "make_classification(n_samples=100, n_features=3, n_informative=3, n_redundant=0, n_classes=2, weights = [.25, .75], random_state=1)\n",
    "# n_informative 決定了用來產生目標向量的特徵數\n",
    "# 若n_information數量小於特徵的全部數量(n_features)所產生的資料集就會有多餘的特徵\n",
    "# weight用作模擬帶有不平衡類別的資料集"
   ]
  },
  {
   "cell_type": "markdown",
   "metadata": {},
   "source": [
    "### 模擬資料集的產生(分群)"
   ]
  },
  {
   "cell_type": "code",
   "execution_count": 82,
   "metadata": {},
   "outputs": [],
   "source": [
    "from sklearn.datasets import make_blobs\n",
    "features, target = make_blobs(n_samples=100, n_features=2, centers=3, cluster_std=0.5, shuffle=True, random_state=1)"
   ]
  },
  {
   "cell_type": "code",
   "execution_count": 84,
   "metadata": {},
   "outputs": [
    {
     "data": {
      "text/plain": [
       "array([0, 1, 1, 1, 2, 2, 2, 1, 0, 0, 1, 1, 2, 0, 2, 2, 2, 0, 1, 1, 2, 1,\n",
       "       2, 0, 1, 2, 2, 0, 0, 2, 0, 0, 2, 0, 1, 2, 1, 1, 1, 2, 2, 1, 0, 1,\n",
       "       1, 2, 0, 0, 0, 0, 1, 2, 2, 2, 0, 2, 1, 1, 0, 0, 1, 2, 2, 1, 1, 2,\n",
       "       0, 2, 0, 1, 1, 1, 2, 0, 0, 1, 2, 2, 0, 1, 0, 1, 1, 2, 0, 0, 0, 0,\n",
       "       1, 0, 2, 0, 0, 1, 1, 2, 2, 0, 2, 0])"
      ]
     },
     "execution_count": 84,
     "metadata": {},
     "output_type": "execute_result"
    }
   ],
   "source": []
  },
  {
   "cell_type": "code",
   "execution_count": 86,
   "metadata": {},
   "outputs": [
    {
     "data": {
      "text/plain": [
       "<matplotlib.collections.PathCollection at 0x1c9d9bd4c48>"
      ]
     },
     "execution_count": 86,
     "metadata": {},
     "output_type": "execute_result"
    },
    {
     "data": {
      "image/png": "[encoded data removed]",
      "text/plain": [
       "<Figure size 432x288 with 1 Axes>"
      ]
     },
     "metadata": {
      "needs_background": "light"
     },
     "output_type": "display_data"
    }
   ],
   "source": [
    "import matplotlib.pyplot as plt\n",
    "plt.scatter(features[:,0], features[:,1], c=target)"
   ]
  },
  {
   "cell_type": "markdown",
   "metadata": {},
   "source": [
    "### CSV Loads"
   ]
  },
  {
   "cell_type": "code",
   "execution_count": null,
   "metadata": {},
   "outputs": [],
   "source": [
    "df = pd.read_csv(url)"
   ]
  },
  {
   "cell_type": "markdown",
   "metadata": {},
   "source": [
    "### Excel Loads"
   ]
  },
  {
   "cell_type": "code",
   "execution_count": null,
   "metadata": {},
   "outputs": [],
   "source": [
    "df = pd.read_excel(url, sheetname=0, header=1)"
   ]
  },
  {
   "cell_type": "markdown",
   "metadata": {},
   "source": [
    "### Json Loads"
   ]
  },
  {
   "cell_type": "code",
   "execution_count": null,
   "metadata": {},
   "outputs": [],
   "source": [
    "pd.read_json(url, orient='column') # json_normalize"
   ]
  },
  {
   "cell_type": "markdown",
   "metadata": {},
   "source": [
    "### SQL Loads"
   ]
  },
  {
   "cell_type": "code",
   "execution_count": null,
   "metadata": {},
   "outputs": [],
   "source": [
    "from sqlalchemy import create_engine\n",
    "db = create_engine('sqlite:///sample.db')\n",
    "df = pd.read_sql_query('SELECT * FROM data', db)"
   ]
  }
 ],
 "metadata": {
  "kernelspec": {
   "display_name": "Python 3",
   "language": "python",
   "name": "python3"
  },
  "language_info": {
   "codemirror_mode": {
    "name": "ipython",
    "version": 3
   },
   "file_extension": ".py",
   "mimetype": "text/x-python",
   "name": "python",
   "nbconvert_exporter": "python",
   "pygments_lexer": "ipython3",
   "version": "3.7.5"
  }
 },
 "nbformat": 4,
 "nbformat_minor": 2
}
