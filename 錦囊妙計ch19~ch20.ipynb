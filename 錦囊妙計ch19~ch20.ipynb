{
 "cells": [
  {
   "cell_type": "markdown",
   "metadata": {},
   "source": [
    "# Chapter 19 分群"
   ]
  },
  {
   "cell_type": "markdown",
   "metadata": {},
   "source": [
    "### K-Means 分群"
   ]
  },
  {
   "cell_type": "code",
   "execution_count": 5,
   "metadata": {},
   "outputs": [],
   "source": [
    "from sklearn import datasets\n",
    "from sklearn.preprocessing import StandardScaler\n",
    "from sklearn.cluster import KMeans\n",
    "iris = datasets.load_iris()\n",
    "features = iris.data\n",
    "scaler = StandardScaler()\n",
    "features_standardized = scaler.fit_transform(features)"
   ]
  },
  {
   "cell_type": "code",
   "execution_count": 7,
   "metadata": {},
   "outputs": [],
   "source": [
    "cluster = KMeans(n_clusters=3, random_state=0, n_jobs=-1)\n",
    "model = cluster.fit(features)"
   ]
  },
  {
   "cell_type": "markdown",
   "metadata": {},
   "source": [
    "#### Notes: K-means\n",
    "1. 先隨機產生k群聚的中心點。\n",
    "2. 對每一個觀察計算：\n",
    "    * 與k個中心點的距離。\n",
    "    * 將觀察指定給最接近其中心點的群聚。\n",
    "3. 中心點會被移動到預期群聚的平均值上。\n",
    "4. 重複進行2, 3步驟"
   ]
  },
  {
   "cell_type": "markdown",
   "metadata": {},
   "source": [
    "#### K-mean分群假設群聚呈凸形，且所有特徵尺度調成相等(標準化)，群聚是平衡的"
   ]
  },
  {
   "cell_type": "code",
   "execution_count": 8,
   "metadata": {},
   "outputs": [
    {
     "data": {
      "text/plain": [
       "array([1, 1, 1, 1, 1, 1, 1, 1, 1, 1, 1, 1, 1, 1, 1, 1, 1, 1, 1, 1, 1, 1,\n",
       "       1, 1, 1, 1, 1, 1, 1, 1, 1, 1, 1, 1, 1, 1, 1, 1, 1, 1, 1, 1, 1, 1,\n",
       "       1, 1, 1, 1, 1, 1, 2, 2, 0, 2, 2, 2, 2, 2, 2, 2, 2, 2, 2, 2, 2, 2,\n",
       "       2, 2, 2, 2, 2, 2, 2, 2, 2, 2, 2, 0, 2, 2, 2, 2, 2, 2, 2, 2, 2, 2,\n",
       "       2, 2, 2, 2, 2, 2, 2, 2, 2, 2, 2, 2, 0, 2, 0, 0, 0, 0, 2, 0, 0, 0,\n",
       "       0, 0, 0, 2, 2, 0, 0, 0, 0, 2, 0, 2, 0, 2, 0, 0, 2, 2, 0, 0, 0, 0,\n",
       "       0, 2, 0, 0, 0, 0, 2, 0, 0, 0, 2, 0, 0, 0, 2, 0, 0, 2])"
      ]
     },
     "execution_count": 8,
     "metadata": {},
     "output_type": "execute_result"
    }
   ],
   "source": [
    "# 檢視預測類型\n",
    "model.labels_"
   ]
  },
  {
   "cell_type": "code",
   "execution_count": 9,
   "metadata": {},
   "outputs": [
    {
     "data": {
      "text/plain": [
       "array([0, 0, 0, 0, 0, 0, 0, 0, 0, 0, 0, 0, 0, 0, 0, 0, 0, 0, 0, 0, 0, 0,\n",
       "       0, 0, 0, 0, 0, 0, 0, 0, 0, 0, 0, 0, 0, 0, 0, 0, 0, 0, 0, 0, 0, 0,\n",
       "       0, 0, 0, 0, 0, 0, 1, 1, 1, 1, 1, 1, 1, 1, 1, 1, 1, 1, 1, 1, 1, 1,\n",
       "       1, 1, 1, 1, 1, 1, 1, 1, 1, 1, 1, 1, 1, 1, 1, 1, 1, 1, 1, 1, 1, 1,\n",
       "       1, 1, 1, 1, 1, 1, 1, 1, 1, 1, 1, 1, 2, 2, 2, 2, 2, 2, 2, 2, 2, 2,\n",
       "       2, 2, 2, 2, 2, 2, 2, 2, 2, 2, 2, 2, 2, 2, 2, 2, 2, 2, 2, 2, 2, 2,\n",
       "       2, 2, 2, 2, 2, 2, 2, 2, 2, 2, 2, 2, 2, 2, 2, 2, 2, 2])"
      ]
     },
     "execution_count": 9,
     "metadata": {},
     "output_type": "execute_result"
    }
   ],
   "source": [
    "iris.target"
   ]
  },
  {
   "cell_type": "code",
   "execution_count": 10,
   "metadata": {},
   "outputs": [
    {
     "data": {
      "text/plain": [
       "array([1])"
      ]
     },
     "execution_count": 10,
     "metadata": {},
     "output_type": "execute_result"
    }
   ],
   "source": [
    "new_observation = [[0.8, 0.8, 0.8, 0.8]]\n",
    "model.predict(new_observation)"
   ]
  },
  {
   "cell_type": "code",
   "execution_count": 11,
   "metadata": {},
   "outputs": [
    {
     "data": {
      "text/plain": [
       "array([[6.85      , 3.07368421, 5.74210526, 2.07105263],\n",
       "       [5.006     , 3.428     , 1.462     , 0.246     ],\n",
       "       [5.9016129 , 2.7483871 , 4.39354839, 1.43387097]])"
      ]
     },
     "execution_count": 11,
     "metadata": {},
     "output_type": "execute_result"
    }
   ],
   "source": [
    "# 檢視群聚中心\n",
    "model.cluster_centers_"
   ]
  },
  {
   "cell_type": "markdown",
   "metadata": {},
   "source": [
    "### 加速K-means"
   ]
  },
  {
   "cell_type": "code",
   "execution_count": 12,
   "metadata": {},
   "outputs": [],
   "source": [
    "from sklearn import datasets\n",
    "from sklearn.preprocessing import StandardScaler\n",
    "from sklearn.cluster import MiniBatchKMeans\n",
    "iris = datasets.load_iris()\n",
    "features = iris.data\n",
    "scaler = StandardScaler()\n",
    "features_standardized = scaler.fit_transform(features)"
   ]
  },
  {
   "cell_type": "code",
   "execution_count": 13,
   "metadata": {},
   "outputs": [],
   "source": [
    "cluster = MiniBatchKMeans(n_clusters=3, random_state=0, batch_size=100) # batch_size 每次批次處理時隨機選取觀察的數目\n",
    "model = cluster.fit(features_standardized)"
   ]
  },
  {
   "cell_type": "markdown",
   "metadata": {},
   "source": [
    "### 以Meanshift分群"
   ]
  },
  {
   "cell_type": "code",
   "execution_count": 15,
   "metadata": {},
   "outputs": [],
   "source": [
    "from sklearn import datasets\n",
    "from sklearn.preprocessing import StandardScaler\n",
    "from sklearn.cluster import MeanShift\n",
    "iris = datasets.load_iris()\n",
    "features = iris.data\n",
    "scaler = StandardScaler()\n",
    "features_standardized = scaler.fit_transform(features)"
   ]
  },
  {
   "cell_type": "code",
   "execution_count": 17,
   "metadata": {},
   "outputs": [],
   "source": [
    "cluster = MeanShift(n_jobs=-1) # 不用給群數\n",
    "model = cluster.fit(features_standardized)"
   ]
  },
  {
   "cell_type": "markdown",
   "metadata": {},
   "source": [
    "#### 有兩個參數：\n",
    "1. bandwidth 設定kernel半徑，觀察以之判斷要轉移的方向。\n",
    "2. 在預設的情境下，MeanShift會將所有的這些孤鳥指定給最接近的kernel，如果要將這些排除的話可以用cluster_all=False。"
   ]
  },
  {
   "cell_type": "markdown",
   "metadata": {},
   "source": [
    "### 以DBSCAN分群(高密度分群)"
   ]
  },
  {
   "cell_type": "code",
   "execution_count": 18,
   "metadata": {},
   "outputs": [],
   "source": [
    "from sklearn import datasets\n",
    "from sklearn.preprocessing import StandardScaler\n",
    "from sklearn.cluster import DBSCAN\n",
    "iris = datasets.load_iris()\n",
    "features = iris.data\n",
    "scaler = StandardScaler()\n",
    "features_standardized = scaler.fit_transform(features)"
   ]
  },
  {
   "cell_type": "code",
   "execution_count": 19,
   "metadata": {},
   "outputs": [],
   "source": [
    "cluster = DBSCAN(n_jobs=-1)\n",
    "model = cluster.fit(features_standardized)"
   ]
  },
  {
   "cell_type": "markdown",
   "metadata": {},
   "source": [
    "#### Notes: DBSCAN觀念\n",
    "1. 隨機選遠取一個觀察$x_i$。\n",
    "2. 若$x_i$有最少的鄰點，我們會將它歸屬到一個群聚中。\n",
    "3. 在$x_i$的鄰點上遞迴執行步驟2，接著對鄰點的鄰點繼續做下去，這些就會被視為群聚的kernel觀察點。\n",
    "4. 當步驟3執行完所有鄰近觀察點後，再隨機選一個點(from step 1)"
   ]
  },
  {
   "cell_type": "markdown",
   "metadata": {},
   "source": [
    "#### DBSCAN參數"
   ]
  },
  {
   "cell_type": "markdown",
   "metadata": {},
   "source": [
    "* eps：一觀察被劃為另一個觀察之鄰點的最大距離。<br>\n",
    "* min_samples：與一觀察之距離小於eps的最小觀察數量，會讓該觀察被視為核心觀察點。<br>\n",
    "* metric：eps所使用的距離指標，如minkowski或euclidean。"
   ]
  },
  {
   "cell_type": "code",
   "execution_count": 20,
   "metadata": {},
   "outputs": [
    {
     "data": {
      "text/plain": [
       "array([ 0,  0,  0,  0,  0,  0,  0,  0,  0,  0,  0,  0,  0,  0, -1, -1,  0,\n",
       "        0,  0,  0,  0,  0,  0,  0,  0,  0,  0,  0,  0,  0,  0,  0, -1, -1,\n",
       "        0,  0,  0,  0,  0,  0,  0, -1,  0,  0,  0,  0,  0,  0,  0,  0,  1,\n",
       "        1,  1,  1,  1,  1, -1, -1,  1, -1, -1,  1, -1,  1,  1,  1,  1,  1,\n",
       "       -1,  1,  1,  1, -1,  1,  1,  1,  1,  1,  1,  1,  1,  1,  1,  1,  1,\n",
       "       -1,  1, -1,  1,  1,  1,  1,  1, -1,  1,  1,  1,  1, -1,  1, -1,  1,\n",
       "        1,  1,  1, -1, -1, -1, -1, -1,  1,  1,  1,  1, -1,  1,  1, -1, -1,\n",
       "       -1,  1,  1, -1,  1,  1, -1,  1,  1,  1, -1, -1, -1,  1,  1,  1, -1,\n",
       "       -1,  1,  1,  1,  1,  1,  1,  1,  1,  1,  1,  1, -1,  1],\n",
       "      dtype=int64)"
      ]
     },
     "execution_count": 20,
     "metadata": {},
     "output_type": "execute_result"
    }
   ],
   "source": [
    "# -1為離群\n",
    "model.labels_"
   ]
  },
  {
   "cell_type": "markdown",
   "metadata": {},
   "source": [
    "### 以分層合併進行分群"
   ]
  },
  {
   "cell_type": "markdown",
   "metadata": {},
   "source": [
    "#### hierarchy of clusters"
   ]
  },
  {
   "cell_type": "code",
   "execution_count": 23,
   "metadata": {},
   "outputs": [],
   "source": [
    "from sklearn import datasets\n",
    "from sklearn.preprocessing import StandardScaler\n",
    "from sklearn.cluster import AgglomerativeClustering\n",
    "iris = datasets.load_iris()\n",
    "features = iris.data\n",
    "scaler = StandardScaler()\n",
    "features_standardized = scaler.fit_transform(features)"
   ]
  },
  {
   "cell_type": "code",
   "execution_count": 24,
   "metadata": {},
   "outputs": [],
   "source": [
    "cluster = AgglomerativeClustering(n_clusters=3)\n",
    "model = cluster.fit(features_standardized)"
   ]
  },
  {
   "cell_type": "markdown",
   "metadata": {},
   "source": [
    "#### Linkage參數：\n",
    "* 合併群聚的變異(ward)\n",
    "* 配對群聚中觀察的平均距離(average)\n",
    "* 配對群聚中觀察的最大距離(complete)"
   ]
  },
  {
   "cell_type": "markdown",
   "metadata": {},
   "source": [
    "#### Affinity參數：絕對linkage需用的距離指標(minkowski，euclidean)"
   ]
  },
  {
   "cell_type": "code",
   "execution_count": 25,
   "metadata": {},
   "outputs": [
    {
     "data": {
      "text/plain": [
       "array([1, 1, 1, 1, 1, 1, 1, 1, 1, 1, 1, 1, 1, 1, 1, 1, 1, 1, 1, 1, 1, 1,\n",
       "       1, 1, 1, 1, 1, 1, 1, 1, 1, 1, 1, 1, 1, 1, 1, 1, 1, 1, 1, 2, 1, 1,\n",
       "       1, 1, 1, 1, 1, 1, 0, 0, 0, 2, 0, 2, 0, 2, 0, 2, 2, 0, 2, 0, 2, 0,\n",
       "       2, 2, 2, 2, 0, 0, 0, 0, 0, 0, 0, 0, 0, 2, 2, 2, 2, 0, 2, 0, 0, 2,\n",
       "       2, 2, 2, 0, 2, 2, 2, 2, 2, 0, 2, 2, 0, 0, 0, 0, 0, 0, 2, 0, 0, 0,\n",
       "       0, 0, 0, 0, 0, 0, 0, 0, 0, 2, 0, 0, 0, 0, 0, 0, 0, 0, 0, 0, 0, 0,\n",
       "       0, 0, 0, 0, 0, 0, 0, 0, 0, 0, 0, 0, 0, 0, 0, 0, 0, 0], dtype=int64)"
      ]
     },
     "execution_count": 25,
     "metadata": {},
     "output_type": "execute_result"
    }
   ],
   "source": [
    "model.labels_"
   ]
  },
  {
   "cell_type": "markdown",
   "metadata": {},
   "source": [
    "# Chapter 20 類神經網路"
   ]
  },
  {
   "cell_type": "markdown",
   "metadata": {},
   "source": [
    "### 類神經網路資料的預處理"
   ]
  },
  {
   "cell_type": "code",
   "execution_count": 27,
   "metadata": {},
   "outputs": [],
   "source": [
    "from sklearn import preprocessing\n",
    "import numpy as np\n",
    "features = np.array([[-100.1, 3240.1], [-200.2, -234.1], [5000.5, 150.1], [6000.6, -125.1], [9000.9, -673.1]])\n",
    "scaler = preprocessing.StandardScaler()\n",
    "features_standardized = scaler.fit_transform(features)"
   ]
  },
  {
   "cell_type": "code",
   "execution_count": 32,
   "metadata": {},
   "outputs": [
    {
     "name": "stdout",
     "output_type": "stream",
     "text": [
      "Mean: 0.0\n",
      "Standatd deviation: 1.0\n"
     ]
    }
   ],
   "source": [
    "print(\"Mean:\", round(features_standardized[:,0].mean()))\n",
    "print(\"Standatd deviation:\", round(features_standardized[:,0].std()))"
   ]
  },
  {
   "cell_type": "markdown",
   "metadata": {},
   "source": [
    "### 類神經網路設計"
   ]
  },
  {
   "cell_type": "code",
   "execution_count": 35,
   "metadata": {},
   "outputs": [],
   "source": [
    "from keras import models\n",
    "from keras import layers\n",
    "network = models.Sequential()\n",
    "network.add(layers.Dense(units=16, activation=\"relu\", input_shape=(10, )))\n",
    "network.add(layers.Dense(units=16, activation=\"relu\"))\n",
    "network.add(layers.Dense(units=1, activation=\"sigmoid\"))\n",
    "network.compile(loss=\"binary_crossentropy\", optimizer=\"rmsprop\", metrics=[\"accuracy\"])"
   ]
  },
  {
   "cell_type": "code",
   "execution_count": 36,
   "metadata": {},
   "outputs": [
    {
     "name": "stdout",
     "output_type": "stream",
     "text": [
      "Model: \"sequential_2\"\n",
      "_________________________________________________________________\n",
      "Layer (type)                 Output Shape              Param #   \n",
      "=================================================================\n",
      "dense_3 (Dense)              (None, 16)                176       \n",
      "_________________________________________________________________\n",
      "dense_4 (Dense)              (None, 16)                272       \n",
      "_________________________________________________________________\n",
      "dense_5 (Dense)              (None, 1)                 17        \n",
      "=================================================================\n",
      "Total params: 465\n",
      "Trainable params: 465\n",
      "Non-trainable params: 0\n",
      "_________________________________________________________________\n"
     ]
    }
   ],
   "source": [
    "network.summary()"
   ]
  },
  {
   "cell_type": "markdown",
   "metadata": {},
   "source": [
    "#### 隱藏層的每一個工作：\n",
    "1. 接收一些輸入。\n",
    "2. 用參數值為每一輸入加總。\n",
    "3. 將加權後的所有輸入加總，加上一些偏差。\n",
    "4. 通常會再套用一些激發函式(activation)。\n",
    "5. 將輸出傳給下一層上的單元。"
   ]
  },
  {
   "cell_type": "markdown",
   "metadata": {},
   "source": [
    "#### Rectified linear unit，ReLU \n",
    "$f(z)=max(0, z)$"
   ]
  },
  {
   "cell_type": "markdown",
   "metadata": {},
   "source": [
    "#### 常見的輸出層模式："
   ]
  },
  {
   "cell_type": "markdown",
   "metadata": {},
   "source": [
    "* 二元分類(Binary classfication)：一個帶有S型曲線激發函式的單元。\n",
    "* 多類型分類(Multiclass classfication)：有K個單元(目標類型)與一個softmax activation。\n",
    "* 迴歸(Regression)：一個不帶激發函式的單元。"
   ]
  },
  {
   "cell_type": "markdown",
   "metadata": {},
   "source": [
    "#### 常見的loss function："
   ]
  },
  {
   "cell_type": "markdown",
   "metadata": {},
   "source": [
    "* 二元分類(Binary classfication)：二元交叉熵(Binary cross-entropy)。\n",
    "* 多類型分類(Multiclass classfication)：類型交叉熵(Categorical cross-entropy)。\n",
    "* 迴歸(Regression)：均方差(Mean square error)。"
   ]
  },
  {
   "cell_type": "markdown",
   "metadata": {},
   "source": [
    "### 二元分類器之訓練"
   ]
  },
  {
   "cell_type": "code",
   "execution_count": 39,
   "metadata": {},
   "outputs": [
    {
     "name": "stdout",
     "output_type": "stream",
     "text": [
      "Downloading data from https://s3.amazonaws.com/text-datasets/imdb.npz\n",
      "17465344/17464789 [==============================] - 2s 0us/step\n"
     ]
    }
   ],
   "source": [
    "import numpy as np\n",
    "from keras.datasets import imdb\n",
    "from keras.preprocessing.text import Tokenizer\n",
    "from keras import models\n",
    "from keras import layers\n",
    "np.random.seed(0)\n",
    "number_of_features = 1000\n",
    "(data_train, target_train), (data_test, target_test) = imdb.load_data(num_words=number_of_features)"
   ]
  },
  {
   "cell_type": "code",
   "execution_count": 42,
   "metadata": {},
   "outputs": [],
   "source": [
    "tokenizer = Tokenizer(num_words=number_of_features)\n",
    "features_train = tokenizer.sequences_to_matrix(data_train, mode=\"binary\")\n",
    "features_test = tokenizer.sequences_to_matrix(data_test, mode=\"binary\")"
   ]
  },
  {
   "cell_type": "code",
   "execution_count": 51,
   "metadata": {},
   "outputs": [
    {
     "data": {
      "text/plain": [
       "(25000, 1000)"
      ]
     },
     "execution_count": 51,
     "metadata": {},
     "output_type": "execute_result"
    }
   ],
   "source": [
    "features_train.shape"
   ]
  },
  {
   "cell_type": "code",
   "execution_count": 48,
   "metadata": {},
   "outputs": [
    {
     "name": "stdout",
     "output_type": "stream",
     "text": [
      "Train on 25000 samples, validate on 25000 samples\n",
      "Epoch 1/3\n",
      "25000/25000 [==============================] - 2s 86us/step - loss: 0.4251 - accuracy: 0.8112 - val_loss: 0.3415 - val_accuracy: 0.8543\n",
      "Epoch 2/3\n",
      "25000/25000 [==============================] - 1s 46us/step - loss: 0.3243 - accuracy: 0.8630 - val_loss: 0.3344 - val_accuracy: 0.8577\n",
      "Epoch 3/3\n",
      "25000/25000 [==============================] - 1s 45us/step - loss: 0.3142 - accuracy: 0.8697 - val_loss: 0.3307 - val_accuracy: 0.8594\n"
     ]
    }
   ],
   "source": [
    "network = models.Sequential()\n",
    "network.add(layers.Dense(units=16, activation=\"relu\", input_shape=(number_of_features,)))\n",
    "network.add(layers.Dense(units=16, activation=\"relu\"))\n",
    "network.add(layers.Dense(units=1, activation=\"sigmoid\"))\n",
    "network.compile(loss=\"binary_crossentropy\", optimizer=\"rmsprop\", metrics=[\"accuracy\"])\n",
    "history = network.fit(features_train,\n",
    "                      target_train,\n",
    "                      epochs=3,\n",
    "                      verbose=1, # 0代表不列, 1代表有progress bar, 2 代表每一趟列出一行紀錄\n",
    "                      batch_size=100,\n",
    "                      validation_data=(features_test, target_test))"
   ]
  },
  {
   "cell_type": "markdown",
   "metadata": {},
   "source": [
    "### 多類型分類器訓練"
   ]
  },
  {
   "cell_type": "code",
   "execution_count": 83,
   "metadata": {},
   "outputs": [],
   "source": [
    "import numpy as np\n",
    "from keras.datasets import reuters\n",
    "from keras.utils.np_utils import to_categorical\n",
    "from keras.preprocessing.text import Tokenizer\n",
    "from keras import models\n",
    "from keras import layers\n",
    "np.random.seed(0)\n",
    "number_of_features = 5000\n",
    "data = reuters.load_data(num_words=number_of_features)\n",
    "(X_train, y_train), (X_test, y_test) = data"
   ]
  },
  {
   "cell_type": "code",
   "execution_count": 84,
   "metadata": {},
   "outputs": [],
   "source": [
    "tokenizer = Tokenizer(num_words=number_of_features)\n",
    "features_train = tokenizer.sequences_to_matrix(X_train, mode=\"binary\")\n",
    "features_test = tokenizer.sequences_to_matrix(X_test, mode=\"binary\")\n",
    "target_train = to_categorical(y_train)\n",
    "target_test = to_categorical(y_test)"
   ]
  },
  {
   "cell_type": "code",
   "execution_count": 87,
   "metadata": {},
   "outputs": [
    {
     "name": "stdout",
     "output_type": "stream",
     "text": [
      "Model: \"sequential_9\"\n",
      "_________________________________________________________________\n",
      "Layer (type)                 Output Shape              Param #   \n",
      "=================================================================\n",
      "dense_24 (Dense)             (None, 100)               500100    \n",
      "_________________________________________________________________\n",
      "dense_25 (Dense)             (None, 100)               10100     \n",
      "_________________________________________________________________\n",
      "dense_26 (Dense)             (None, 46)                4646      \n",
      "=================================================================\n",
      "Total params: 514,846\n",
      "Trainable params: 514,846\n",
      "Non-trainable params: 0\n",
      "_________________________________________________________________\n"
     ]
    }
   ],
   "source": [
    "model = models.Sequential()\n",
    "model.add(layers.Dense(units=100, activation=\"relu\", input_shape=(number_of_features,)))\n",
    "model.add(layers.Dense(units=100, activation=\"relu\"))\n",
    "model.add(layers.Dense(units=46, activation=\"softmax\"))\n",
    "model.compile(loss=\"categorical_crossentropy\", metrics=[\"accuracy\"], optimizer=\"rmsprop\")\n",
    "model.summary()"
   ]
  },
  {
   "cell_type": "code",
   "execution_count": 90,
   "metadata": {},
   "outputs": [
    {
     "name": "stdout",
     "output_type": "stream",
     "text": [
      "Train on 8982 samples, validate on 2246 samples\n",
      "Epoch 1/3\n",
      "8982/8982 [==============================] - 1s 90us/step - loss: 0.1954 - accuracy: 0.9496 - val_loss: 1.0753 - val_accuracy: 0.7983\n",
      "Epoch 2/3\n",
      "8982/8982 [==============================] - 1s 85us/step - loss: 0.1715 - accuracy: 0.9520 - val_loss: 1.0867 - val_accuracy: 0.7943\n",
      "Epoch 3/3\n",
      "8982/8982 [==============================] - 1s 85us/step - loss: 0.1608 - accuracy: 0.9523 - val_loss: 1.0932 - val_accuracy: 0.7974\n"
     ]
    }
   ],
   "source": [
    "history = model.fit(features_train,\n",
    "                      target_train,\n",
    "                      epochs=3,\n",
    "                      verbose=1,\n",
    "                      batch_size=100,\n",
    "                      validation_data=(features_test, target_test))"
   ]
  },
  {
   "cell_type": "markdown",
   "metadata": {},
   "source": [
    "### 迴歸器之訓練"
   ]
  },
  {
   "cell_type": "code",
   "execution_count": 92,
   "metadata": {},
   "outputs": [],
   "source": [
    "import numpy as np\n",
    "from keras.preprocessing.text import Tokenizer\n",
    "from keras import models\n",
    "from keras import layers\n",
    "from sklearn.datasets import make_regression\n",
    "from sklearn.model_selection import train_test_split\n",
    "from sklearn import preprocessing\n",
    "np.random.seed(0)\n",
    "# 模擬資料集無須標準化\n",
    "features, target = make_regression(n_samples = 10000,\n",
    "                                   n_features = 3,\n",
    "                                   n_informative = 3,\n",
    "                                   n_targets = 1,\n",
    "                                   noise = 0.0,\n",
    "                                   random_state = 0)\n",
    "X_train, X_test, y_train, y_test = train_test_split(features, target, test_size=0.33, random_state=0)"
   ]
  },
  {
   "cell_type": "code",
   "execution_count": 93,
   "metadata": {},
   "outputs": [
    {
     "data": {
      "text/plain": [
       "(6700, 3)"
      ]
     },
     "execution_count": 93,
     "metadata": {},
     "output_type": "execute_result"
    }
   ],
   "source": [
    "X_train.shape"
   ]
  },
  {
   "cell_type": "code",
   "execution_count": 94,
   "metadata": {},
   "outputs": [
    {
     "name": "stdout",
     "output_type": "stream",
     "text": [
      "Train on 6700 samples, validate on 3300 samples\n",
      "Epoch 1/10\n",
      "6700/6700 [==============================] - 0s 43us/step - loss: 17383.1097 - accuracy: 0.0000e+00 - val_loss: 17801.4199 - val_accuracy: 0.0000e+00\n",
      "Epoch 2/10\n",
      "6700/6700 [==============================] - 0s 28us/step - loss: 16640.4910 - accuracy: 0.0000e+00 - val_loss: 16674.8511 - val_accuracy: 0.0000e+00\n",
      "Epoch 3/10\n",
      "6700/6700 [==============================] - 0s 28us/step - loss: 15163.3087 - accuracy: 0.0000e+00 - val_loss: 14728.0821 - val_accuracy: 0.0000e+00\n",
      "Epoch 4/10\n",
      "6700/6700 [==============================] - 0s 28us/step - loss: 12884.7934 - accuracy: 0.0000e+00 - val_loss: 11913.5058 - val_accuracy: 0.0000e+00\n",
      "Epoch 5/10\n",
      "6700/6700 [==============================] - 0s 28us/step - loss: 9769.4120 - accuracy: 0.0000e+00 - val_loss: 8386.3100 - val_accuracy: 0.0000e+00\n",
      "Epoch 6/10\n",
      "6700/6700 [==============================] - 0s 28us/step - loss: 6327.3955 - accuracy: 0.0000e+00 - val_loss: 4783.7153 - val_accuracy: 0.0000e+00\n",
      "Epoch 7/10\n",
      "6700/6700 [==============================] - 0s 28us/step - loss: 3064.5340 - accuracy: 0.0000e+00 - val_loss: 1829.7295 - val_accuracy: 0.0000e+00\n",
      "Epoch 8/10\n",
      "6700/6700 [==============================] - 0s 29us/step - loss: 960.9646 - accuracy: 0.0000e+00 - val_loss: 461.5904 - val_accuracy: 0.0000e+00\n",
      "Epoch 9/10\n",
      "6700/6700 [==============================] - 0s 29us/step - loss: 323.6754 - accuracy: 0.0000e+00 - val_loss: 252.8931 - val_accuracy: 0.0000e+00\n",
      "Epoch 10/10\n",
      "6700/6700 [==============================] - 0s 27us/step - loss: 234.7241 - accuracy: 0.0000e+00 - val_loss: 211.5088 - val_accuracy: 0.0000e+00\n"
     ]
    }
   ],
   "source": [
    "model = models.Sequential()\n",
    "model.add(layers.Dense(units=32, activation=\"relu\", input_shape=(X_train.shape[1],)))\n",
    "model.add(layers.Dense(units=32, activation=\"relu\"))\n",
    "# 加入不帶激發函式的全連結層\n",
    "model.add(layers.Dense(units=1))\n",
    "model.compile(loss=\"mse\", metrics=[\"accuracy\"], optimizer=\"RMSprop\")\n",
    "history = model.fit(X_train,\n",
    "                    y_train,\n",
    "                    epochs=10,\n",
    "                    verbose=1,\n",
    "                    batch_size=100,\n",
    "                    validation_data=(X_test, y_test))"
   ]
  },
  {
   "cell_type": "markdown",
   "metadata": {},
   "source": [
    "$$MSE=\\frac{1}{n}\\sum_{i=1}^{n}(\\hat{y_i}-y_i)^2$$"
   ]
  },
  {
   "cell_type": "markdown",
   "metadata": {},
   "source": [
    "### 預測"
   ]
  },
  {
   "cell_type": "code",
   "execution_count": 1,
   "metadata": {},
   "outputs": [
    {
     "name": "stderr",
     "output_type": "stream",
     "text": [
      "Using TensorFlow backend.\n"
     ]
    }
   ],
   "source": [
    "import numpy as np\n",
    "from keras.datasets import imdb\n",
    "from keras.preprocessing.text import Tokenizer\n",
    "from keras import models\n",
    "from keras import layers\n",
    "np.random.seed(0)\n",
    "number_of_features = 10000\n",
    "(X_train, y_train), (X_test, y_test) = imdb.load_data(num_words=number_of_features)\n",
    "tokenizer = Tokenizer(num_words=number_of_features)\n",
    "features_train = tokenizer.sequences_to_matrix(X_train, mode=\"binary\")\n",
    "target_train = y_train\n",
    "features_test = tokenizer.sequences_to_matrix(X_test, mode=\"binary\")\n",
    "target_test = y_test"
   ]
  },
  {
   "cell_type": "code",
   "execution_count": 2,
   "metadata": {},
   "outputs": [
    {
     "data": {
      "text/plain": [
       "(25000,)"
      ]
     },
     "execution_count": 2,
     "metadata": {},
     "output_type": "execute_result"
    }
   ],
   "source": [
    "X_test.shape"
   ]
  },
  {
   "cell_type": "code",
   "execution_count": 3,
   "metadata": {},
   "outputs": [
    {
     "name": "stdout",
     "output_type": "stream",
     "text": [
      "Model: \"sequential_1\"\n",
      "_________________________________________________________________\n",
      "Layer (type)                 Output Shape              Param #   \n",
      "=================================================================\n",
      "dense_1 (Dense)              (None, 16)                160016    \n",
      "_________________________________________________________________\n",
      "dense_2 (Dense)              (None, 16)                272       \n",
      "_________________________________________________________________\n",
      "dense_3 (Dense)              (None, 1)                 17        \n",
      "=================================================================\n",
      "Total params: 160,305\n",
      "Trainable params: 160,305\n",
      "Non-trainable params: 0\n",
      "_________________________________________________________________\n"
     ]
    }
   ],
   "source": [
    "model = models.Sequential()\n",
    "model.add(layers.Dense(units=16, activation=\"relu\", input_shape=(number_of_features,)))\n",
    "model.add(layers.Dense(units=16, activation=\"relu\"))\n",
    "model.add(layers.Dense(units=1, activation=\"sigmoid\"))\n",
    "model.compile(loss=\"binary_crossentropy\",\n",
    "              optimizer=\"rmsprop\",\n",
    "              metrics=[\"accuracy\"])\n",
    "model.summary()"
   ]
  },
  {
   "cell_type": "code",
   "execution_count": 4,
   "metadata": {},
   "outputs": [
    {
     "name": "stdout",
     "output_type": "stream",
     "text": [
      "Train on 25000 samples, validate on 25000 samples\n",
      "Epoch 1/3\n",
      "25000/25000 [==============================] - 6s 224us/step - loss: 0.3361 - accuracy: 0.8628 - val_loss: 0.2807 - val_accuracy: 0.8884\n",
      "Epoch 2/3\n",
      "25000/25000 [==============================] - 5s 197us/step - loss: 0.2048 - accuracy: 0.9219 - val_loss: 0.3468 - val_accuracy: 0.8642\n",
      "Epoch 3/3\n",
      "25000/25000 [==============================] - 5s 196us/step - loss: 0.1660 - accuracy: 0.9375 - val_loss: 0.3754 - val_accuracy: 0.8603\n"
     ]
    }
   ],
   "source": [
    "history = model.fit(features_train,\n",
    "                    target_train,\n",
    "                    epochs=3,\n",
    "                    verbose=1,\n",
    "                    batch_size=100,\n",
    "                    validation_data=(features_test, target_test))"
   ]
  },
  {
   "cell_type": "code",
   "execution_count": 7,
   "metadata": {},
   "outputs": [
    {
     "data": {
      "text/plain": [
       "array([0.06130871], dtype=float32)"
      ]
     },
     "execution_count": 7,
     "metadata": {},
     "output_type": "execute_result"
    }
   ],
   "source": [
    "predicted_target = model.predict(features_test)\n",
    "predicted_target[0]"
   ]
  },
  {
   "cell_type": "markdown",
   "metadata": {},
   "source": [
    "### 訓練歷程視覺化"
   ]
  },
  {
   "cell_type": "code",
   "execution_count": 8,
   "metadata": {},
   "outputs": [],
   "source": [
    "import numpy as np\n",
    "from keras.datasets import imdb\n",
    "from keras.preprocessing.text import Tokenizer\n",
    "from keras import models\n",
    "from keras import layers\n",
    "import matplotlib.pyplot as plt\n",
    "np.random.seed(0)\n",
    "number_of_features = 10000\n",
    "(X_train, y_train), (X_test, y_test) = imdb.load_data(num_words=number_of_features)"
   ]
  },
  {
   "cell_type": "code",
   "execution_count": 10,
   "metadata": {},
   "outputs": [],
   "source": [
    "tokenizer = Tokenizer(num_words=number_of_features)\n",
    "features_train = tokenizer.sequences_to_matrix(X_train, mode=\"binary\")\n",
    "features_test = tokenizer.sequences_to_matrix(X_test, mode=\"binary\")\n",
    "target_train = y_train; target_test = y_test"
   ]
  },
  {
   "cell_type": "code",
   "execution_count": 11,
   "metadata": {},
   "outputs": [
    {
     "name": "stdout",
     "output_type": "stream",
     "text": [
      "Train on 25000 samples, validate on 25000 samples\n",
      "Epoch 1/15\n",
      "25000/25000 [==============================] - 4s 176us/step - loss: 0.5309 - accuracy: 0.7700 - val_loss: 0.4097 - val_accuracy: 0.8684\n",
      "Epoch 2/15\n",
      "25000/25000 [==============================] - 4s 155us/step - loss: 0.3278 - accuracy: 0.8958 - val_loss: 0.3225 - val_accuracy: 0.8844\n",
      "Epoch 3/15\n",
      "25000/25000 [==============================] - 4s 155us/step - loss: 0.2517 - accuracy: 0.9159 - val_loss: 0.3157 - val_accuracy: 0.8747\n",
      "Epoch 4/15\n",
      "25000/25000 [==============================] - 4s 154us/step - loss: 0.2066 - accuracy: 0.9302 - val_loss: 0.2829 - val_accuracy: 0.8881\n",
      "Epoch 5/15\n",
      "25000/25000 [==============================] - 4s 154us/step - loss: 0.1777 - accuracy: 0.9385 - val_loss: 0.3629 - val_accuracy: 0.8525\n",
      "Epoch 6/15\n",
      "25000/25000 [==============================] - 4s 154us/step - loss: 0.1573 - accuracy: 0.9466 - val_loss: 0.3092 - val_accuracy: 0.8768\n",
      "Epoch 7/15\n",
      "25000/25000 [==============================] - 4s 154us/step - loss: 0.1443 - accuracy: 0.9492 - val_loss: 0.3762 - val_accuracy: 0.8570\n",
      "Epoch 8/15\n",
      "25000/25000 [==============================] - 4s 154us/step - loss: 0.1307 - accuracy: 0.9554 - val_loss: 0.3169 - val_accuracy: 0.8781\n",
      "Epoch 9/15\n",
      "25000/25000 [==============================] - 4s 154us/step - loss: 0.1186 - accuracy: 0.9605 - val_loss: 0.3267 - val_accuracy: 0.8778\n",
      "Epoch 10/15\n",
      "25000/25000 [==============================] - 4s 154us/step - loss: 0.1095 - accuracy: 0.9632 - val_loss: 0.3889 - val_accuracy: 0.8609\n",
      "Epoch 11/15\n",
      "25000/25000 [==============================] - 4s 154us/step - loss: 0.0978 - accuracy: 0.9688 - val_loss: 0.3980 - val_accuracy: 0.8614\n",
      "Epoch 12/15\n",
      "25000/25000 [==============================] - 4s 153us/step - loss: 0.0938 - accuracy: 0.9695 - val_loss: 0.4119 - val_accuracy: 0.8609\n",
      "Epoch 13/15\n",
      "25000/25000 [==============================] - 4s 154us/step - loss: 0.0874 - accuracy: 0.9720 - val_loss: 0.4020 - val_accuracy: 0.8678\n",
      "Epoch 14/15\n",
      "25000/25000 [==============================] - 4s 154us/step - loss: 0.0764 - accuracy: 0.9764 - val_loss: 0.4115 - val_accuracy: 0.8665\n",
      "Epoch 15/15\n",
      "25000/25000 [==============================] - 4s 154us/step - loss: 0.0732 - accuracy: 0.9771 - val_loss: 0.4375 - val_accuracy: 0.8638\n"
     ]
    }
   ],
   "source": [
    "model = models.Sequential()\n",
    "model.add(layers.Dense(units=16, activation=\"relu\", input_shape=(number_of_features, )))\n",
    "model.add(layers.Dense(units=16, activation=\"relu\"))\n",
    "model.add(layers.Dense(units=1, activation=\"sigmoid\"))\n",
    "model.compile(loss=\"binary_crossentropy\", optimizer=\"rmsprop\", metrics=[\"accuracy\"])\n",
    "history = model.fit(features_train, target_train, epochs=15, verbose=1, batch_size=1024, validation_data=(features_test, target_test))"
   ]
  },
  {
   "cell_type": "code",
   "execution_count": 22,
   "metadata": {},
   "outputs": [
    {
     "data": {
      "image/png": "[encoded data removed]",
      "text/plain": [
       "<Figure size 432x288 with 1 Axes>"
      ]
     },
     "metadata": {
      "needs_background": "light"
     },
     "output_type": "display_data"
    }
   ],
   "source": [
    "training_loss = history.history[\"loss\"]\n",
    "test_loss = history.history[\"val_loss\"]\n",
    "x = range(1, len(training_loss)+1)\n",
    "plt.plot(x, training_loss, \"r--\")\n",
    "plt.plot(x, test_loss, \"b-\")\n",
    "plt.legend([\"Training loss\", \"Test loss\"])\n",
    "plt.xlabel(\"Epoch\"); plt.ylabel(\"Loss\")\n",
    "plt.show()"
   ]
  },
  {
   "cell_type": "code",
   "execution_count": 23,
   "metadata": {},
   "outputs": [
    {
     "data": {
      "image/png": "[encoded data removed]",
      "text/plain": [
       "<Figure size 432x288 with 1 Axes>"
      ]
     },
     "metadata": {
      "needs_background": "light"
     },
     "output_type": "display_data"
    }
   ],
   "source": [
    "training_acc = history.history[\"accuracy\"]\n",
    "test_acc = history.history[\"val_accuracy\"]\n",
    "x = range(1, len(training_acc)+1)\n",
    "plt.plot(x, training_acc, \"r--\")\n",
    "plt.plot(x, test_acc, \"b-\")\n",
    "plt.legend([\"Training accuracy\", \"Test accuracy\"])\n",
    "plt.xlabel(\"Epoch\"); plt.ylabel(\"accuracy\")\n",
    "plt.scatter(4, test_acc[3], c=\"y\")\n",
    "plt.show()"
   ]
  },
  {
   "cell_type": "markdown",
   "metadata": {},
   "source": [
    "### 以權重正規化減少過度擬合"
   ]
  },
  {
   "cell_type": "code",
   "execution_count": 24,
   "metadata": {},
   "outputs": [],
   "source": [
    "import numpy as np\n",
    "from keras.datasets import imdb\n",
    "from keras.preprocessing.text import Tokenizer\n",
    "from keras import models\n",
    "from keras import layers\n",
    "from keras import regularizers\n",
    "np.random.seed(0)\n",
    "number_of_features = 1000\n",
    "(X_train, y_train), (X_test, y_test) = imdb.load_data(num_words=number_of_features)\n",
    "tokenizer = Tokenizer(num_words=number_of_features)\n",
    "features_train = tokenizer.sequences_to_matrix(X_train, mode=\"binary\")\n",
    "features_test = tokenizer.sequences_to_matrix(X_test, mode=\"binary\")\n",
    "target_train = y_train\n",
    "target_test = y_test"
   ]
  },
  {
   "cell_type": "code",
   "execution_count": 27,
   "metadata": {},
   "outputs": [
    {
     "name": "stdout",
     "output_type": "stream",
     "text": [
      "Model: \"sequential_5\"\n",
      "_________________________________________________________________\n",
      "Layer (type)                 Output Shape              Param #   \n",
      "=================================================================\n",
      "dense_9 (Dense)              (None, 16)                16016     \n",
      "_________________________________________________________________\n",
      "dense_10 (Dense)             (None, 16)                272       \n",
      "_________________________________________________________________\n",
      "dense_11 (Dense)             (None, 1)                 17        \n",
      "=================================================================\n",
      "Total params: 16,305\n",
      "Trainable params: 16,305\n",
      "Non-trainable params: 0\n",
      "_________________________________________________________________\n"
     ]
    }
   ],
   "source": [
    "model = models.Sequential()\n",
    "model.add(layers.Dense(units=16, activation=\"relu\", kernel_regularizer=regularizers.l2(0.01), input_shape=(number_of_features, )))\n",
    "model.add(layers.Dense(units=16, activation=\"relu\", kernel_regularizer=regularizers.l2(0.01)))\n",
    "model.add(layers.Dense(units=1, activation=\"sigmoid\"))\n",
    "model.compile(loss=\"binary_crossentropy\", metrics=[\"accuracy\"], optimizer=\"rmsprop\")\n",
    "model.summary()"
   ]
  },
  {
   "cell_type": "code",
   "execution_count": 29,
   "metadata": {},
   "outputs": [
    {
     "name": "stdout",
     "output_type": "stream",
     "text": [
      "Train on 25000 samples, validate on 25000 samples\n",
      "Epoch 1/3\n",
      "25000/25000 [==============================] - 1s 44us/step - loss: 0.6799 - accuracy: 0.7783 - val_loss: 0.5041 - val_accuracy: 0.8521\n",
      "Epoch 2/3\n",
      "25000/25000 [==============================] - 1s 34us/step - loss: 0.4716 - accuracy: 0.8545 - val_loss: 0.4511 - val_accuracy: 0.8579\n",
      "Epoch 3/3\n",
      "25000/25000 [==============================] - 1s 35us/step - loss: 0.4433 - accuracy: 0.8578 - val_loss: 0.4373 - val_accuracy: 0.8593\n"
     ]
    }
   ],
   "source": [
    "history = model.fit(features_train, target_train, epochs=3, verbose=1, batch_size=128, validation_data=(features_test, target_test))"
   ]
  },
  {
   "cell_type": "markdown",
   "metadata": {},
   "source": [
    "### EarlyStop 減少過度擬合"
   ]
  },
  {
   "cell_type": "code",
   "execution_count": 37,
   "metadata": {},
   "outputs": [],
   "source": [
    "from keras.datasets import imdb\n",
    "from keras import models, layers\n",
    "from keras.preprocessing.text import Tokenizer\n",
    "from keras.callbacks import EarlyStopping, ModelCheckpoint"
   ]
  },
  {
   "cell_type": "code",
   "execution_count": 38,
   "metadata": {},
   "outputs": [],
   "source": [
    "np.random.seed(0)\n",
    "number_of_features = 1000\n",
    "(X_train, y_train), (X_test, y_test) = imdb.load_data(num_words=number_of_features)\n",
    "tokenizer = Tokenizer(num_words=number_of_features)\n",
    "features_train = tokenizer.sequences_to_matrix(X_train, mode=\"binary\")\n",
    "features_test = tokenizer.sequences_to_matrix(X_test, mode=\"binary\")\n",
    "target_train = y_train\n",
    "target_test = y_test"
   ]
  },
  {
   "cell_type": "code",
   "execution_count": 39,
   "metadata": {},
   "outputs": [],
   "source": [
    "model = models.Sequential()\n",
    "model.add(layers.Dense(units=16, activation=\"relu\", input_shape=(number_of_features,)))\n",
    "model.add(layers.Dense(units=16, activation=\"relu\"))\n",
    "model.add(layers.Dense(units=1, activation=\"sigmoid\"))\n",
    "model.compile(loss=\"binary_crossentropy\", optimizer=\"rmsprop\", metrics=[\"accuracy\"])\n",
    "callbacks = [EarlyStopping(monitor=\"val_loss\", patience=2),\n",
    "             ModelCheckpoint(filepath=\"best_model.h5\",\n",
    "                             monitor=\"val_loss\",\n",
    "                             save_best_only=True)]"
   ]
  },
  {
   "cell_type": "code",
   "execution_count": 41,
   "metadata": {},
   "outputs": [
    {
     "name": "stdout",
     "output_type": "stream",
     "text": [
      "Train on 25000 samples, validate on 25000 samples\n",
      "Epoch 1/20\n",
      "25000/25000 [==============================] - 1s 52us/step - loss: 0.2994 - accuracy: 0.8755 - val_loss: 0.3325 - val_accuracy: 0.8591\n",
      "Epoch 2/20\n",
      "25000/25000 [==============================] - 1s 52us/step - loss: 0.2904 - accuracy: 0.8783 - val_loss: 0.3305 - val_accuracy: 0.8582\n",
      "Epoch 3/20\n",
      "25000/25000 [==============================] - 1s 47us/step - loss: 0.2793 - accuracy: 0.8834 - val_loss: 0.3389 - val_accuracy: 0.8569\n",
      "Epoch 4/20\n",
      "25000/25000 [==============================] - 1s 47us/step - loss: 0.2677 - accuracy: 0.8872 - val_loss: 0.3415 - val_accuracy: 0.8543\n"
     ]
    }
   ],
   "source": [
    "history = model.fit(features_train,\n",
    "                    target_train,\n",
    "                    epochs=20,\n",
    "                    callbacks=callbacks,\n",
    "                    verbose=1,\n",
    "                    batch_size=100,\n",
    "                    validation_data=(features_test, target_test))"
   ]
  },
  {
   "cell_type": "markdown",
   "metadata": {},
   "source": [
    "### 以Dropout減少過度擬合"
   ]
  },
  {
   "cell_type": "code",
   "execution_count": 53,
   "metadata": {},
   "outputs": [],
   "source": [
    "import numpy as np\n",
    "from keras.datasets import imdb\n",
    "from keras.preprocessing.text import Tokenizer\n",
    "from keras import layers, models\n",
    "np.random.seed(0)\n",
    "number_of_features = 1000\n",
    "(X_train, y_train), (X_test, y_test) = imdb.load_data(num_words=number_of_features)\n",
    "tokenizer = Tokenizer(num_words=number_of_features)\n",
    "features_train = tokenizer.sequences_to_matrix(X_train, mode=\"binary\")\n",
    "features_test = tokenizer.sequences_to_matrix(X_test, mode=\"binary\")\n",
    "target_train, target_test = y_train, y_test"
   ]
  },
  {
   "cell_type": "code",
   "execution_count": 54,
   "metadata": {},
   "outputs": [
    {
     "data": {
      "text/plain": [
       "(25000, 1000)"
      ]
     },
     "execution_count": 54,
     "metadata": {},
     "output_type": "execute_result"
    }
   ],
   "source": [
    "features_test.shape"
   ]
  },
  {
   "cell_type": "code",
   "execution_count": 58,
   "metadata": {},
   "outputs": [
    {
     "name": "stdout",
     "output_type": "stream",
     "text": [
      "Model: \"sequential_13\"\n",
      "_________________________________________________________________\n",
      "Layer (type)                 Output Shape              Param #   \n",
      "=================================================================\n",
      "dropout_13 (Dropout)         (None, 1000)              0         \n",
      "_________________________________________________________________\n",
      "dense_31 (Dense)             (None, 16)                16016     \n",
      "_________________________________________________________________\n",
      "dropout_14 (Dropout)         (None, 16)                0         \n",
      "_________________________________________________________________\n",
      "dense_32 (Dense)             (None, 16)                272       \n",
      "_________________________________________________________________\n",
      "dropout_15 (Dropout)         (None, 16)                0         \n",
      "_________________________________________________________________\n",
      "dense_33 (Dense)             (None, 1)                 17        \n",
      "=================================================================\n",
      "Total params: 16,305\n",
      "Trainable params: 16,305\n",
      "Non-trainable params: 0\n",
      "_________________________________________________________________\n"
     ]
    }
   ],
   "source": [
    "model = models.Sequential()\n",
    "# 輸入0.2, 隱藏0.5\n",
    "model.add(layers.Dropout(0.2, input_shape=(number_of_features, )))\n",
    "model.add(layers.Dense(units=16, activation=\"relu\"))\n",
    "model.add(layers.Dropout(0.5))\n",
    "model.add(layers.Dense(units=16, activation=\"relu\"))\n",
    "model.add(layers.Dropout(0.5))\n",
    "model.add(layers.Dense(units=1, activation=\"sigmoid\"))\n",
    "model.summary()"
   ]
  },
  {
   "cell_type": "code",
   "execution_count": 59,
   "metadata": {},
   "outputs": [
    {
     "name": "stdout",
     "output_type": "stream",
     "text": [
      "Train on 25000 samples, validate on 25000 samples\n",
      "Epoch 1/3\n",
      "25000/25000 [==============================] - 2s 86us/step - loss: 0.6433 - accuracy: 0.6229 - val_loss: 0.5062 - val_accuracy: 0.8223\n",
      "Epoch 2/3\n",
      "25000/25000 [==============================] - 2s 76us/step - loss: 0.5109 - accuracy: 0.7634 - val_loss: 0.3758 - val_accuracy: 0.8507\n",
      "Epoch 3/3\n",
      "25000/25000 [==============================] - 2s 73us/step - loss: 0.4532 - accuracy: 0.8035 - val_loss: 0.3476 - val_accuracy: 0.8575\n"
     ]
    }
   ],
   "source": [
    "model.compile(loss=\"binary_crossentropy\", metrics=[\"accuracy\"], optimizer=\"rmsprop\")\n",
    "history = model.fit(features_train,\n",
    "                    target_train,\n",
    "                    epochs=3,\n",
    "                    verbose=1,\n",
    "                    batch_size=100,\n",
    "                    validation_data=(features_test, target_test))"
   ]
  },
  {
   "cell_type": "markdown",
   "metadata": {},
   "source": [
    "### ModelCheckpoint"
   ]
  },
  {
   "cell_type": "code",
   "execution_count": 60,
   "metadata": {},
   "outputs": [],
   "source": [
    "import numpy as np\n",
    "from keras.datasets import imdb\n",
    "from keras.preprocessing.text import Tokenizer\n",
    "from keras import models, layers\n",
    "from keras.callbacks import ModelCheckpoint\n",
    "np.random.seed(0)\n",
    "number_of_features = 1000\n",
    "(X_train, y_train), (X_test, y_test) = imdb.load_data(num_words=number_of_features)\n",
    "tokenizer = Tokenizer(num_words=number_of_features)\n",
    "features_train = tokenizer.sequences_to_matrix(X_train, mode=\"binary\")\n",
    "features_test = tokenizer.sequences_to_matrix(X_test, mode=\"binary\")\n",
    "target_train, target_test = y_train, y_test"
   ]
  },
  {
   "cell_type": "code",
   "execution_count": 61,
   "metadata": {},
   "outputs": [
    {
     "name": "stdout",
     "output_type": "stream",
     "text": [
      "Model: \"sequential_14\"\n",
      "_________________________________________________________________\n",
      "Layer (type)                 Output Shape              Param #   \n",
      "=================================================================\n",
      "dense_34 (Dense)             (None, 16)                16016     \n",
      "_________________________________________________________________\n",
      "dense_35 (Dense)             (None, 16)                272       \n",
      "_________________________________________________________________\n",
      "dense_36 (Dense)             (None, 1)                 17        \n",
      "=================================================================\n",
      "Total params: 16,305\n",
      "Trainable params: 16,305\n",
      "Non-trainable params: 0\n",
      "_________________________________________________________________\n"
     ]
    }
   ],
   "source": [
    "model = models.Sequential()\n",
    "model.add(layers.Dense(units=16, activation=\"relu\", input_shape=(number_of_features,)))\n",
    "model.add(layers.Dense(units=16, activation=\"relu\"))\n",
    "model.add(layers.Dense(units=1, activation=\"sigmoid\"))\n",
    "model.compile(loss=\"binary_crossentropy\", metrics=[\"accuracy\"], optimizer=\"rmsprop\")\n",
    "model.summary()"
   ]
  },
  {
   "cell_type": "code",
   "execution_count": 64,
   "metadata": {},
   "outputs": [
    {
     "name": "stdout",
     "output_type": "stream",
     "text": [
      "Train on 25000 samples, validate on 25000 samples\n",
      "Epoch 1/3\n",
      "25000/25000 [==============================] - 2s 78us/step - loss: 0.3060 - accuracy: 0.8733 - val_loss: 0.3286 - val_accuracy: 0.8595\n",
      "Epoch 2/3\n",
      "25000/25000 [==============================] - 2s 75us/step - loss: 0.2981 - accuracy: 0.8760 - val_loss: 0.3329 - val_accuracy: 0.8584\n",
      "Epoch 3/3\n",
      "25000/25000 [==============================] - 2s 81us/step - loss: 0.2864 - accuracy: 0.8811 - val_loss: 0.3310 - val_accuracy: 0.8573\n"
     ]
    }
   ],
   "source": [
    "checkpoint = [ModelCheckpoint(filepath='models.hdf5')]\n",
    "history = model.fit(features_train,\n",
    "                    target_train,\n",
    "                    epochs=3,\n",
    "                    callbacks=checkpoint,\n",
    "                    verbose=1,\n",
    "                    batch_size=100,\n",
    "                    validation_data=(features_test, target_test))"
   ]
  },
  {
   "cell_type": "markdown",
   "metadata": {},
   "source": [
    "#### tricks: filepath=\"model_{epoch:02d}_ {val_loss:.2f}.hdf5}"
   ]
  },
  {
   "cell_type": "markdown",
   "metadata": {},
   "source": [
    "### K次交叉驗證類神經網路"
   ]
  },
  {
   "cell_type": "code",
   "execution_count": 68,
   "metadata": {},
   "outputs": [],
   "source": [
    "import numpy as np\n",
    "from keras import models, layers\n",
    "from keras.wrappers.scikit_learn import KerasClassifier\n",
    "from sklearn.model_selection import cross_val_score\n",
    "from sklearn.datasets import make_classification\n",
    "np.random.seed(0)\n",
    "number_of_features = 100\n",
    "features, target = make_classification(n_samples = 10000,\n",
    "                                       n_features = number_of_features,\n",
    "                                       n_informative = 3,\n",
    "                                       n_redundant = 2,\n",
    "                                       weights= [.5, .5],\n",
    "                                       random_state= 0)"
   ]
  },
  {
   "cell_type": "code",
   "execution_count": 69,
   "metadata": {},
   "outputs": [],
   "source": [
    "def create_network():\n",
    "    model = models.Sequential()\n",
    "    model.add(layers.Dense(units=16, activation=\"relu\", input_shape=(number_of_features,)))\n",
    "    model.add(layers.Dense(units=16, activation=\"relu\"))\n",
    "    model.add(layers.Dense(units=1, activation=\"sigmoid\"))\n",
    "\n",
    "    model.compile(loss=\"binary_crossentropy\", metrics=[\"accuracy\"], optimizer=\"rmsprop\")\n",
    "    return model"
   ]
  },
  {
   "cell_type": "code",
   "execution_count": 72,
   "metadata": {},
   "outputs": [
    {
     "data": {
      "text/plain": [
       "array([0.90731853, 0.90729076, 0.8988899 ])"
      ]
     },
     "execution_count": 72,
     "metadata": {},
     "output_type": "execute_result"
    }
   ],
   "source": [
    "neural_network = KerasClassifier(build_fn=create_network,\n",
    "                                 epochs=10,\n",
    "                                 batch_size=100,\n",
    "                                 verbose=0)\n",
    "cross_val_score(neural_network, features, target, cv=3)"
   ]
  },
  {
   "cell_type": "markdown",
   "metadata": {},
   "source": [
    "### 類神經網路的校調"
   ]
  },
  {
   "cell_type": "code",
   "execution_count": 1,
   "metadata": {},
   "outputs": [
    {
     "name": "stderr",
     "output_type": "stream",
     "text": [
      "Using TensorFlow backend.\n"
     ]
    }
   ],
   "source": [
    "import numpy as np\n",
    "from keras import layers, models\n",
    "from keras.wrappers.scikit_learn import KerasClassifier\n",
    "from sklearn.model_selection import GridSearchCV\n",
    "from sklearn.datasets import make_classification"
   ]
  },
  {
   "cell_type": "code",
   "execution_count": 2,
   "metadata": {},
   "outputs": [],
   "source": [
    "number_of_features = 100\n",
    "features, target = make_classification(n_samples = 10000,\n",
    "                                       n_features = number_of_features,\n",
    "                                       n_informative = 3,\n",
    "                                       n_redundant = 2,\n",
    "                                       weights= [.5, .5],\n",
    "                                       random_state= 0)"
   ]
  },
  {
   "cell_type": "code",
   "execution_count": 3,
   "metadata": {},
   "outputs": [],
   "source": [
    "def create_network(optimizer=\"rmsprop\"):\n",
    "    model = models.Sequential()\n",
    "    model.add(layers.Dense(units=16, activation=\"relu\", input_shape=(number_of_features,)))\n",
    "    model.add(layers.Dense(units=16, activation=\"relu\"))\n",
    "    model.add(layers.Dense(units=1, activation=\"sigmoid\"))\n",
    "    model.compile(loss=\"binary_crossentropy\", metrics=[\"accuracy\"], optimizer=optimizer)\n",
    "    return model"
   ]
  },
  {
   "cell_type": "code",
   "execution_count": 4,
   "metadata": {},
   "outputs": [],
   "source": [
    "# 包裝keras 模型給 scikit-learn用\n",
    "neural_network = KerasClassifier(build_fn=create_network, verbose=0)\n",
    "epochs = [5, 10]\n",
    "batchs = [5, 10, 100]\n",
    "optimizers = [\"rmsprop\", \"adam\"]\n",
    "hyperparameters = dict(optimizer=optimizers, epochs=epochs, batch_size=batchs)"
   ]
  },
  {
   "cell_type": "code",
   "execution_count": 5,
   "metadata": {},
   "outputs": [],
   "source": [
    "grid = GridSearchCV(estimator=neural_network, param_grid=hyperparameters, cv=3)\n",
    "grid_result = grid.fit(features, target)"
   ]
  },
  {
   "cell_type": "code",
   "execution_count": 6,
   "metadata": {},
   "outputs": [
    {
     "data": {
      "text/plain": [
       "{'batch_size': 5, 'epochs': 10, 'optimizer': 'adam'}"
      ]
     },
     "execution_count": 6,
     "metadata": {},
     "output_type": "execute_result"
    }
   ],
   "source": [
    "# 檢視最佳的超參數\n",
    "grid_result.best_params_"
   ]
  },
  {
   "cell_type": "markdown",
   "metadata": {},
   "source": [
    "### 類神經網路視覺化"
   ]
  },
  {
   "cell_type": "code",
   "execution_count": 1,
   "metadata": {},
   "outputs": [
    {
     "name": "stderr",
     "output_type": "stream",
     "text": [
      "Using TensorFlow backend.\n"
     ]
    },
    {
     "data": {
      "text/plain": [
       "'C:\\\\Users\\\\sychen\\\\Anaconda3\\\\envs\\\\tensorflow-gpu\\\\lib\\\\site-packages\\\\keras\\\\__init__.py'"
      ]
     },
     "execution_count": 1,
     "metadata": {},
     "output_type": "execute_result"
    }
   ],
   "source": [
    "# look up keras location\n",
    "import keras\n",
    "keras.__file__"
   ]
  },
  {
   "cell_type": "code",
   "execution_count": 2,
   "metadata": {},
   "outputs": [],
   "source": [
    "from keras import models, layers\n",
    "from IPython.display import SVG\n",
    "from keras.utils.vis_utils import model_to_dot\n",
    "from keras.utils import plot_model"
   ]
  },
  {
   "cell_type": "code",
   "execution_count": 3,
   "metadata": {},
   "outputs": [],
   "source": [
    "model = models.Sequential()\n",
    "model.add(layers.Dense(units=16, activation=\"relu\", input_shape=(10,)))\n",
    "model.add(layers.Dense(units=16, activation=\"relu\"))\n",
    "model.add(layers.Dense(units=1, activation=\"sigmoid\"))"
   ]
  },
  {
   "cell_type": "code",
   "execution_count": 4,
   "metadata": {},
   "outputs": [
    {
     "data": {
      "image/svg+xml": [
       "<svg height=\"405pt\" viewBox=\"0.00 0.00 307.00 304.00\" width=\"409pt\" xmlns=\"http://www.w3.org/2000/svg\" xmlns:xlink=\"http://www.w3.org/1999/xlink\">\n",
       "<g class=\"graph\" id=\"graph0\" transform=\"scale(1.33333 1.33333) rotate(0) translate(4 300)\">\n",
       "<title>G</title>\n",
       "<polygon fill=\"white\" points=\"-4,4 -4,-300 303,-300 303,4 -4,4\" stroke=\"none\"/>\n",
       "<!-- 1783046230152 -->\n",
       "<g class=\"node\" id=\"node1\"><title>1783046230152</title>\n",
       "<polygon fill=\"none\" points=\"0,-249.5 0,-295.5 299,-295.5 299,-249.5 0,-249.5\" stroke=\"black\"/>\n",
       "<text font-family=\"Times New Roman,serif\" font-size=\"14.00\" text-anchor=\"middle\" x=\"83\" y=\"-268.8\">dense_1_input: InputLayer</text>\n",
       "<polyline fill=\"none\" points=\"166,-249.5 166,-295.5 \" stroke=\"black\"/>\n",
       "<text font-family=\"Times New Roman,serif\" font-size=\"14.00\" text-anchor=\"middle\" x=\"194\" y=\"-280.3\">input:</text>\n",
       "<polyline fill=\"none\" points=\"166,-272.5 222,-272.5 \" stroke=\"black\"/>\n",
       "<text font-family=\"Times New Roman,serif\" font-size=\"14.00\" text-anchor=\"middle\" x=\"194\" y=\"-257.3\">output:</text>\n",
       "<polyline fill=\"none\" points=\"222,-249.5 222,-295.5 \" stroke=\"black\"/>\n",
       "<text font-family=\"Times New Roman,serif\" font-size=\"14.00\" text-anchor=\"middle\" x=\"260.5\" y=\"-280.3\">(None, 10)</text>\n",
       "<polyline fill=\"none\" points=\"222,-272.5 299,-272.5 \" stroke=\"black\"/>\n",
       "<text font-family=\"Times New Roman,serif\" font-size=\"14.00\" text-anchor=\"middle\" x=\"260.5\" y=\"-257.3\">(None, 10)</text>\n",
       "</g>\n",
       "<!-- 1783434513608 -->\n",
       "<g class=\"node\" id=\"node2\"><title>1783434513608</title>\n",
       "<polygon fill=\"none\" points=\"31,-166.5 31,-212.5 268,-212.5 268,-166.5 31,-166.5\" stroke=\"black\"/>\n",
       "<text font-family=\"Times New Roman,serif\" font-size=\"14.00\" text-anchor=\"middle\" x=\"83\" y=\"-185.8\">dense_1: Dense</text>\n",
       "<polyline fill=\"none\" points=\"135,-166.5 135,-212.5 \" stroke=\"black\"/>\n",
       "<text font-family=\"Times New Roman,serif\" font-size=\"14.00\" text-anchor=\"middle\" x=\"163\" y=\"-197.3\">input:</text>\n",
       "<polyline fill=\"none\" points=\"135,-189.5 191,-189.5 \" stroke=\"black\"/>\n",
       "<text font-family=\"Times New Roman,serif\" font-size=\"14.00\" text-anchor=\"middle\" x=\"163\" y=\"-174.3\">output:</text>\n",
       "<polyline fill=\"none\" points=\"191,-166.5 191,-212.5 \" stroke=\"black\"/>\n",
       "<text font-family=\"Times New Roman,serif\" font-size=\"14.00\" text-anchor=\"middle\" x=\"229.5\" y=\"-197.3\">(None, 10)</text>\n",
       "<polyline fill=\"none\" points=\"191,-189.5 268,-189.5 \" stroke=\"black\"/>\n",
       "<text font-family=\"Times New Roman,serif\" font-size=\"14.00\" text-anchor=\"middle\" x=\"229.5\" y=\"-174.3\">(None, 16)</text>\n",
       "</g>\n",
       "<!-- 1783046230152&#45;&gt;1783434513608 -->\n",
       "<g class=\"edge\" id=\"edge1\"><title>1783046230152-&gt;1783434513608</title>\n",
       "<path d=\"M149.5,-249.366C149.5,-241.152 149.5,-231.658 149.5,-222.725\" fill=\"none\" stroke=\"black\"/>\n",
       "<polygon fill=\"black\" points=\"153,-222.607 149.5,-212.607 146,-222.607 153,-222.607\" stroke=\"black\"/>\n",
       "</g>\n",
       "<!-- 1783434438664 -->\n",
       "<g class=\"node\" id=\"node3\"><title>1783434438664</title>\n",
       "<polygon fill=\"none\" points=\"31,-83.5 31,-129.5 268,-129.5 268,-83.5 31,-83.5\" stroke=\"black\"/>\n",
       "<text font-family=\"Times New Roman,serif\" font-size=\"14.00\" text-anchor=\"middle\" x=\"83\" y=\"-102.8\">dense_2: Dense</text>\n",
       "<polyline fill=\"none\" points=\"135,-83.5 135,-129.5 \" stroke=\"black\"/>\n",
       "<text font-family=\"Times New Roman,serif\" font-size=\"14.00\" text-anchor=\"middle\" x=\"163\" y=\"-114.3\">input:</text>\n",
       "<polyline fill=\"none\" points=\"135,-106.5 191,-106.5 \" stroke=\"black\"/>\n",
       "<text font-family=\"Times New Roman,serif\" font-size=\"14.00\" text-anchor=\"middle\" x=\"163\" y=\"-91.3\">output:</text>\n",
       "<polyline fill=\"none\" points=\"191,-83.5 191,-129.5 \" stroke=\"black\"/>\n",
       "<text font-family=\"Times New Roman,serif\" font-size=\"14.00\" text-anchor=\"middle\" x=\"229.5\" y=\"-114.3\">(None, 16)</text>\n",
       "<polyline fill=\"none\" points=\"191,-106.5 268,-106.5 \" stroke=\"black\"/>\n",
       "<text font-family=\"Times New Roman,serif\" font-size=\"14.00\" text-anchor=\"middle\" x=\"229.5\" y=\"-91.3\">(None, 16)</text>\n",
       "</g>\n",
       "<!-- 1783434513608&#45;&gt;1783434438664 -->\n",
       "<g class=\"edge\" id=\"edge2\"><title>1783434513608-&gt;1783434438664</title>\n",
       "<path d=\"M149.5,-166.366C149.5,-158.152 149.5,-148.658 149.5,-139.725\" fill=\"none\" stroke=\"black\"/>\n",
       "<polygon fill=\"black\" points=\"153,-139.607 149.5,-129.607 146,-139.607 153,-139.607\" stroke=\"black\"/>\n",
       "</g>\n",
       "<!-- 1783434889224 -->\n",
       "<g class=\"node\" id=\"node4\"><title>1783434889224</title>\n",
       "<polygon fill=\"none\" points=\"31,-0.5 31,-46.5 268,-46.5 268,-0.5 31,-0.5\" stroke=\"black\"/>\n",
       "<text font-family=\"Times New Roman,serif\" font-size=\"14.00\" text-anchor=\"middle\" x=\"83\" y=\"-19.8\">dense_3: Dense</text>\n",
       "<polyline fill=\"none\" points=\"135,-0.5 135,-46.5 \" stroke=\"black\"/>\n",
       "<text font-family=\"Times New Roman,serif\" font-size=\"14.00\" text-anchor=\"middle\" x=\"163\" y=\"-31.3\">input:</text>\n",
       "<polyline fill=\"none\" points=\"135,-23.5 191,-23.5 \" stroke=\"black\"/>\n",
       "<text font-family=\"Times New Roman,serif\" font-size=\"14.00\" text-anchor=\"middle\" x=\"163\" y=\"-8.3\">output:</text>\n",
       "<polyline fill=\"none\" points=\"191,-0.5 191,-46.5 \" stroke=\"black\"/>\n",
       "<text font-family=\"Times New Roman,serif\" font-size=\"14.00\" text-anchor=\"middle\" x=\"229.5\" y=\"-31.3\">(None, 16)</text>\n",
       "<polyline fill=\"none\" points=\"191,-23.5 268,-23.5 \" stroke=\"black\"/>\n",
       "<text font-family=\"Times New Roman,serif\" font-size=\"14.00\" text-anchor=\"middle\" x=\"229.5\" y=\"-8.3\">(None, 1)</text>\n",
       "</g>\n",
       "<!-- 1783434438664&#45;&gt;1783434889224 -->\n",
       "<g class=\"edge\" id=\"edge3\"><title>1783434438664-&gt;1783434889224</title>\n",
       "<path d=\"M149.5,-83.3664C149.5,-75.1516 149.5,-65.6579 149.5,-56.7252\" fill=\"none\" stroke=\"black\"/>\n",
       "<polygon fill=\"black\" points=\"153,-56.6068 149.5,-46.6068 146,-56.6069 153,-56.6068\" stroke=\"black\"/>\n",
       "</g>\n",
       "</g>\n",
       "</svg>"
      ],
      "text/plain": [
       "<IPython.core.display.SVG object>"
      ]
     },
     "execution_count": 4,
     "metadata": {},
     "output_type": "execute_result"
    }
   ],
   "source": [
    "SVG(model_to_dot(model, show_shapes=True).create(prog=\"dot\", format=\"svg\"))"
   ]
  },
  {
   "cell_type": "code",
   "execution_count": 5,
   "metadata": {},
   "outputs": [
    {
     "data": {
      "image/png": "[encoded data removed]",
      "text/plain": [
       "<IPython.core.display.Image object>"
      ]
     },
     "execution_count": 5,
     "metadata": {},
     "output_type": "execute_result"
    }
   ],
   "source": [
    "# 存擋\n",
    "plot_model(model, show_shapes=True, to_file=\"model.png\")"
   ]
  },
  {
   "cell_type": "markdown",
   "metadata": {},
   "source": [
    "### 影像分類-CNN"
   ]
  },
  {
   "cell_type": "code",
   "execution_count": 27,
   "metadata": {},
   "outputs": [],
   "source": [
    "import numpy as np\n",
    "from keras.datasets import mnist\n",
    "from keras.models import Sequential\n",
    "from keras.layers import Dense, Dropout, Flatten\n",
    "from keras.layers.convolutional import Conv2D, MaxPooling2D\n",
    "from keras.utils import np_utils\n",
    "from keras import backend as K"
   ]
  },
  {
   "cell_type": "code",
   "execution_count": 9,
   "metadata": {},
   "outputs": [],
   "source": [
    "# 設定色彩頻道優先\n",
    "K.set_image_data_format(\"channels_first\")"
   ]
  },
  {
   "cell_type": "code",
   "execution_count": 23,
   "metadata": {},
   "outputs": [],
   "source": [
    "np.random.seed(0)\n",
    "channels = 1\n",
    "height = 28\n",
    "width = 28\n",
    "(X_train, y_train), (X_test, y_test) = mnist.load_data()\n",
    "# reshape 主要是加了一個channel\n",
    "X_train = X_train.reshape(X_train.shape[0], channels, height, width)\n",
    "X_test = X_test.reshape(X_test.shape[0], channels, height, width)\n",
    "# scale\n",
    "features_train = X_train / 255\n",
    "features_test = X_test / 255"
   ]
  },
  {
   "cell_type": "code",
   "execution_count": 19,
   "metadata": {},
   "outputs": [
    {
     "data": {
      "image/png": "[encoded data removed]",
      "text/plain": [
       "<Figure size 432x288 with 1 Axes>"
      ]
     },
     "metadata": {
      "needs_background": "light"
     },
     "output_type": "display_data"
    }
   ],
   "source": [
    "# plot 一張圖看看import matplotlib.pyplot as plt\n",
    "first_image = X_train[0]\n",
    "first_image = np.array(first_image, dtype='float')\n",
    "pixels = first_image.reshape((28, 28))\n",
    "plt.imshow(pixels, cmap='gray')\n",
    "plt.show()"
   ]
  },
  {
   "cell_type": "code",
   "execution_count": 28,
   "metadata": {},
   "outputs": [],
   "source": [
    "# one-hot\n",
    "target_train = np_utils.to_categorical(y_train)\n",
    "target_test = np_utils.to_categorical(y_test)\n",
    "number_of_classes = target_test.shape[1]"
   ]
  },
  {
   "cell_type": "code",
   "execution_count": 30,
   "metadata": {},
   "outputs": [
    {
     "name": "stdout",
     "output_type": "stream",
     "text": [
      "Model: \"sequential_2\"\n",
      "_________________________________________________________________\n",
      "Layer (type)                 Output Shape              Param #   \n",
      "=================================================================\n",
      "conv2d_1 (Conv2D)            (None, 64, 24, 24)        1664      \n",
      "_________________________________________________________________\n",
      "max_pooling2d_1 (MaxPooling2 (None, 64, 12, 12)        0         \n",
      "_________________________________________________________________\n",
      "dropout_1 (Dropout)          (None, 64, 12, 12)        0         \n",
      "_________________________________________________________________\n",
      "flatten_1 (Flatten)          (None, 9216)              0         \n",
      "_________________________________________________________________\n",
      "dense_4 (Dense)              (None, 128)               1179776   \n",
      "_________________________________________________________________\n",
      "dropout_2 (Dropout)          (None, 128)               0         \n",
      "_________________________________________________________________\n",
      "dense_5 (Dense)              (None, 10)                1290      \n",
      "=================================================================\n",
      "Total params: 1,182,730\n",
      "Trainable params: 1,182,730\n",
      "Non-trainable params: 0\n",
      "_________________________________________________________________\n"
     ]
    }
   ],
   "source": [
    "model = models.Sequential()\n",
    "model.add(Conv2D(filters=64, kernel_size=(5, 5), input_shape=(channels, width, height), activation=\"relu\"))\n",
    "model.add(MaxPooling2D(pool_size=(2, 2)))\n",
    "model.add(Dropout(0.2))\n",
    "model.add(Flatten())\n",
    "model.add(Dense(128, activation=\"relu\"))\n",
    "model.add(Dropout(0.5))\n",
    "model.add(Dense(number_of_classes, activation=\"softmax\"))\n",
    "model.summary()"
   ]
  },
  {
   "cell_type": "code",
   "execution_count": 31,
   "metadata": {},
   "outputs": [
    {
     "name": "stdout",
     "output_type": "stream",
     "text": [
      "Train on 60000 samples, validate on 10000 samples\n",
      "Epoch 1/3\n",
      "60000/60000 [==============================] - 10s 167us/step - loss: 0.6031 - accuracy: 0.8137 - val_loss: 0.2052 - val_accuracy: 0.9378\n",
      "Epoch 2/3\n",
      "60000/60000 [==============================] - 3s 58us/step - loss: 0.1934 - accuracy: 0.9441 - val_loss: 0.1013 - val_accuracy: 0.9693\n",
      "Epoch 3/3\n",
      "60000/60000 [==============================] - 3s 58us/step - loss: 0.1204 - accuracy: 0.9649 - val_loss: 0.0624 - val_accuracy: 0.9803\n"
     ]
    }
   ],
   "source": [
    "model.compile(loss=\"categorical_crossentropy\", metrics=[\"accuracy\"], optimizer=\"rmsprop\")\n",
    "history = model.fit(features_train, target_train, verbose=1, epochs=3, batch_size=1024, validation_data=(features_test, target_test))"
   ]
  },
  {
   "cell_type": "markdown",
   "metadata": {},
   "source": [
    "### 以影像增強改善效能"
   ]
  },
  {
   "cell_type": "code",
   "execution_count": 36,
   "metadata": {},
   "outputs": [
    {
     "name": "stdout",
     "output_type": "stream",
     "text": [
      "Found 12665 images belonging to 2 classes.\n"
     ]
    }
   ],
   "source": [
    "from keras.preprocessing.image import ImageDataGenerator\n",
    "# 產生影像增強\n",
    "augmentation = ImageDataGenerator(\n",
    "    featurewise_center=True, # ZCA白化+標準化\n",
    "    zoom_range=0.3, # 隨機放大影像\n",
    "    width_shift_range=.2, # 隨機移動影像\n",
    "    horizontal_flip=True, # 隨機翻轉影像\n",
    "    rotation_range=90 #隨機旋轉\n",
    ")\n",
    "# 處理raw/images目錄下影像\n",
    "augment_images = augmentation.flow_from_directory(\n",
    "    \"data/images/raw/images\",\n",
    "    batch_size=32,\n",
    "    class_mode=\"binary\",\n",
    "    save_to_dir=\"processed/images\")"
   ]
  },
  {
   "cell_type": "markdown",
   "metadata": {},
   "source": [
    "#### 因為augment_images是一個產生器，在訓練時要用fit_generator"
   ]
  },
  {
   "cell_type": "code",
   "execution_count": null,
   "metadata": {},
   "outputs": [],
   "source": [
    "model.fit_generator(\n",
    "    augment_images,\n",
    "    steps_per_epoch=2000,\n",
    "    epochs=5,\n",
    "    validation_data=augment_images_test,\n",
    "    validation_steps=800)"
   ]
  },
  {
   "cell_type": "markdown",
   "metadata": {},
   "source": [
    "### 文本分類 - LSTM"
   ]
  },
  {
   "cell_type": "code",
   "execution_count": 57,
   "metadata": {},
   "outputs": [],
   "source": [
    "import numpy as np\n",
    "from keras import models, layers\n",
    "from keras.datasets import imdb\n",
    "from keras.preprocessing import sequence\n",
    "np.random.seed(0)\n",
    "number_of_features = 1000\n",
    "(X_train, y_train), (X_test, y_test) = imdb.load_data(num_words=number_of_features)\n",
    "target_train, target_test = y_train, y_test"
   ]
  },
  {
   "cell_type": "code",
   "execution_count": 52,
   "metadata": {
    "collapsed": true
   },
   "outputs": [
    {
     "data": {
      "text/plain": [
       "[1,\n",
       " 14,\n",
       " 22,\n",
       " 16,\n",
       " 43,\n",
       " 530,\n",
       " 973,\n",
       " 2,\n",
       " 2,\n",
       " 65,\n",
       " 458,\n",
       " 2,\n",
       " 66,\n",
       " 2,\n",
       " 4,\n",
       " 173,\n",
       " 36,\n",
       " 256,\n",
       " 5,\n",
       " 25,\n",
       " 100,\n",
       " 43,\n",
       " 838,\n",
       " 112,\n",
       " 50,\n",
       " 670,\n",
       " 2,\n",
       " 9,\n",
       " 35,\n",
       " 480,\n",
       " 284,\n",
       " 5,\n",
       " 150,\n",
       " 4,\n",
       " 172,\n",
       " 112,\n",
       " 167,\n",
       " 2,\n",
       " 336,\n",
       " 385,\n",
       " 39,\n",
       " 4,\n",
       " 172,\n",
       " 2,\n",
       " 2,\n",
       " 17,\n",
       " 546,\n",
       " 38,\n",
       " 13,\n",
       " 447,\n",
       " 4,\n",
       " 192,\n",
       " 50,\n",
       " 16,\n",
       " 6,\n",
       " 147,\n",
       " 2,\n",
       " 19,\n",
       " 14,\n",
       " 22,\n",
       " 4,\n",
       " 2,\n",
       " 2,\n",
       " 469,\n",
       " 4,\n",
       " 22,\n",
       " 71,\n",
       " 87,\n",
       " 12,\n",
       " 16,\n",
       " 43,\n",
       " 530,\n",
       " 38,\n",
       " 76,\n",
       " 15,\n",
       " 13,\n",
       " 2,\n",
       " 4,\n",
       " 22,\n",
       " 17,\n",
       " 515,\n",
       " 17,\n",
       " 12,\n",
       " 16,\n",
       " 626,\n",
       " 18,\n",
       " 2,\n",
       " 5,\n",
       " 62,\n",
       " 386,\n",
       " 12,\n",
       " 8,\n",
       " 316,\n",
       " 8,\n",
       " 106,\n",
       " 5,\n",
       " 4,\n",
       " 2,\n",
       " 2,\n",
       " 16,\n",
       " 480,\n",
       " 66,\n",
       " 2,\n",
       " 33,\n",
       " 4,\n",
       " 130,\n",
       " 12,\n",
       " 16,\n",
       " 38,\n",
       " 619,\n",
       " 5,\n",
       " 25,\n",
       " 124,\n",
       " 51,\n",
       " 36,\n",
       " 135,\n",
       " 48,\n",
       " 25,\n",
       " 2,\n",
       " 33,\n",
       " 6,\n",
       " 22,\n",
       " 12,\n",
       " 215,\n",
       " 28,\n",
       " 77,\n",
       " 52,\n",
       " 5,\n",
       " 14,\n",
       " 407,\n",
       " 16,\n",
       " 82,\n",
       " 2,\n",
       " 8,\n",
       " 4,\n",
       " 107,\n",
       " 117,\n",
       " 2,\n",
       " 15,\n",
       " 256,\n",
       " 4,\n",
       " 2,\n",
       " 7,\n",
       " 2,\n",
       " 5,\n",
       " 723,\n",
       " 36,\n",
       " 71,\n",
       " 43,\n",
       " 530,\n",
       " 476,\n",
       " 26,\n",
       " 400,\n",
       " 317,\n",
       " 46,\n",
       " 7,\n",
       " 4,\n",
       " 2,\n",
       " 2,\n",
       " 13,\n",
       " 104,\n",
       " 88,\n",
       " 4,\n",
       " 381,\n",
       " 15,\n",
       " 297,\n",
       " 98,\n",
       " 32,\n",
       " 2,\n",
       " 56,\n",
       " 26,\n",
       " 141,\n",
       " 6,\n",
       " 194,\n",
       " 2,\n",
       " 18,\n",
       " 4,\n",
       " 226,\n",
       " 22,\n",
       " 21,\n",
       " 134,\n",
       " 476,\n",
       " 26,\n",
       " 480,\n",
       " 5,\n",
       " 144,\n",
       " 30,\n",
       " 2,\n",
       " 18,\n",
       " 51,\n",
       " 36,\n",
       " 28,\n",
       " 224,\n",
       " 92,\n",
       " 25,\n",
       " 104,\n",
       " 4,\n",
       " 226,\n",
       " 65,\n",
       " 16,\n",
       " 38,\n",
       " 2,\n",
       " 88,\n",
       " 12,\n",
       " 16,\n",
       " 283,\n",
       " 5,\n",
       " 16,\n",
       " 2,\n",
       " 113,\n",
       " 103,\n",
       " 32,\n",
       " 15,\n",
       " 16,\n",
       " 2,\n",
       " 19,\n",
       " 178,\n",
       " 32]"
      ]
     },
     "execution_count": 52,
     "metadata": {},
     "output_type": "execute_result"
    }
   ],
   "source": [
    "X_train[0]"
   ]
  },
  {
   "cell_type": "code",
   "execution_count": 53,
   "metadata": {
    "collapsed": true
   },
   "outputs": [
    {
     "data": {
      "text/plain": [
       "array([  0,   0,   0,   0,   0,   0,   0,   0,   0,   0,   0,   0,   0,\n",
       "         0,   0,   0,   0,   0,   0,   0,   0,   0,   0,   0,   0,   0,\n",
       "         0,   0,   0,   0,   0,   0,   0,   0,   0,   0,   0,   0,   0,\n",
       "         0,   0,   0,   0,   0,   0,   0,   0,   0,   0,   0,   0,   0,\n",
       "         0,   0,   0,   0,   0,   0,   0,   0,   0,   0,   0,   0,   0,\n",
       "         0,   0,   0,   0,   0,   0,   0,   0,   0,   0,   0,   0,   0,\n",
       "         0,   0,   0,   0,   0,   0,   0,   0,   0,   0,   0,   0,   0,\n",
       "         0,   0,   0,   0,   0,   0,   0,   0,   0,   0,   0,   0,   0,\n",
       "         0,   0,   0,   0,   0,   0,   0,   0,   0,   0,   0,   0,   0,\n",
       "         0,   0,   0,   0,   0,   0,   0,   0,   0,   0,   0,   0,   0,\n",
       "         0,   0,   0,   0,   0,   0,   0,   0,   0,   0,   0,   0,   0,\n",
       "         0,   0,   0,   0,   0,   0,   0,   0,   0,   0,   0,   0,   0,\n",
       "         0,   0,   0,   0,   0,   0,   0,   0,   0,   0,   0,   0,   0,\n",
       "         0,   0,   0,   0,   0,   0,   0,   0,   0,   0,   0,   0,   0,\n",
       "         1,  14,  22,  16,  43, 530, 973,   2,   2,  65, 458,   2,  66,\n",
       "         2,   4, 173,  36, 256,   5,  25, 100,  43, 838, 112,  50, 670,\n",
       "         2,   9,  35, 480, 284,   5, 150,   4, 172, 112, 167,   2, 336,\n",
       "       385,  39,   4, 172,   2,   2,  17, 546,  38,  13, 447,   4, 192,\n",
       "        50,  16,   6, 147,   2,  19,  14,  22,   4,   2,   2, 469,   4,\n",
       "        22,  71,  87,  12,  16,  43, 530,  38,  76,  15,  13,   2,   4,\n",
       "        22,  17, 515,  17,  12,  16, 626,  18,   2,   5,  62, 386,  12,\n",
       "         8, 316,   8, 106,   5,   4,   2,   2,  16, 480,  66,   2,  33,\n",
       "         4, 130,  12,  16,  38, 619,   5,  25, 124,  51,  36, 135,  48,\n",
       "        25,   2,  33,   6,  22,  12, 215,  28,  77,  52,   5,  14, 407,\n",
       "        16,  82,   2,   8,   4, 107, 117,   2,  15, 256,   4,   2,   7,\n",
       "         2,   5, 723,  36,  71,  43, 530, 476,  26, 400, 317,  46,   7,\n",
       "         4,   2,   2,  13, 104,  88,   4, 381,  15, 297,  98,  32,   2,\n",
       "        56,  26, 141,   6, 194,   2,  18,   4, 226,  22,  21, 134, 476,\n",
       "        26, 480,   5, 144,  30,   2,  18,  51,  36,  28, 224,  92,  25,\n",
       "       104,   4, 226,  65,  16,  38,   2,  88,  12,  16, 283,   5,  16,\n",
       "         2, 113, 103,  32,  15,  16,   2,  19, 178,  32])"
      ]
     },
     "execution_count": 53,
     "metadata": {},
     "output_type": "execute_result"
    }
   ],
   "source": [
    "# 使用填充/截斷讓每個觀察有400個特徵\n",
    "features_train = sequence.pad_sequences(X_train, maxlen=400)\n",
    "features_test = sequence.pad_sequences(X_test, maxlen=400)\n",
    "features_train[0]"
   ]
  },
  {
   "cell_type": "code",
   "execution_count": 55,
   "metadata": {},
   "outputs": [
    {
     "name": "stdout",
     "output_type": "stream",
     "text": [
      "Model: \"sequential_6\"\n",
      "_________________________________________________________________\n",
      "Layer (type)                 Output Shape              Param #   \n",
      "=================================================================\n",
      "embedding_4 (Embedding)      (None, None, 128)         128000    \n",
      "_________________________________________________________________\n",
      "lstm_4 (LSTM)                (None, 128)               131584    \n",
      "_________________________________________________________________\n",
      "dense_9 (Dense)              (None, 1)                 129       \n",
      "=================================================================\n",
      "Total params: 259,713\n",
      "Trainable params: 259,713\n",
      "Non-trainable params: 0\n",
      "_________________________________________________________________\n"
     ]
    }
   ],
   "source": [
    "model = models.Sequential()\n",
    "model.add(layers.Embedding(input_dim=number_of_features, output_dim=128))\n",
    "model.add(layers.LSTM(units=128))\n",
    "model.add(layers.Dense(units=1, activation=\"sigmoid\"))\n",
    "model.summary()"
   ]
  },
  {
   "cell_type": "code",
   "execution_count": 60,
   "metadata": {},
   "outputs": [
    {
     "name": "stderr",
     "output_type": "stream",
     "text": [
      "C:\\Users\\sychen\\Anaconda3\\envs\\tensorflow-gpu\\lib\\site-packages\\tensorflow_core\\python\\framework\\indexed_slices.py:424: UserWarning: Converting sparse IndexedSlices to a dense Tensor of unknown shape. This may consume a large amount of memory.\n",
      "  \"Converting sparse IndexedSlices to a dense Tensor of unknown shape. \"\n"
     ]
    },
    {
     "name": "stdout",
     "output_type": "stream",
     "text": [
      "Train on 25000 samples, validate on 25000 samples\n",
      "Epoch 1/3\n",
      "25000/25000 [==============================] - 191s 8ms/step - loss: 0.3994 - accuracy: 0.8258 - val_loss: 0.3774 - val_accuracy: 0.8355\n",
      "Epoch 2/3\n",
      "25000/25000 [==============================] - 196s 8ms/step - loss: 0.4037 - accuracy: 0.8182 - val_loss: 0.3529 - val_accuracy: 0.8515\n",
      "Epoch 3/3\n",
      "25000/25000 [==============================] - 190s 8ms/step - loss: 0.3567 - accuracy: 0.8474 - val_loss: 0.4035 - val_accuracy: 0.8266\n"
     ]
    }
   ],
   "source": [
    "model.compile(loss=\"binary_crossentropy\", metrics=[\"accuracy\"], optimizer=\"Adam\")\n",
    "history = model.fit(\n",
    "    features_train,\n",
    "    target_train,\n",
    "    epochs=3,\n",
    "    batch_size=64,\n",
    "    verbose=1,\n",
    "    validation_data=(features_test, target_test))"
   ]
  }
 ],
 "metadata": {
  "kernelspec": {
   "display_name": "Python 3",
   "language": "python",
   "name": "python3"
  },
  "language_info": {
   "codemirror_mode": {
    "name": "ipython",
    "version": 3
   },
   "file_extension": ".py",
   "mimetype": "text/x-python",
   "name": "python",
   "nbconvert_exporter": "python",
   "pygments_lexer": "ipython3",
   "version": "3.7.5"
  }
 },
 "nbformat": 4,
 "nbformat_minor": 2
}
