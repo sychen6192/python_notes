{
 "cells": [
  {
   "cell_type": "markdown",
   "metadata": {},
   "source": [
    "# Chapter 9"
   ]
  },
  {
   "cell_type": "markdown",
   "metadata": {},
   "source": [
    "### 使用主成份縮減特徵(且保留了變異)"
   ]
  },
  {
   "cell_type": "code",
   "execution_count": 8,
   "metadata": {},
   "outputs": [
    {
     "name": "stdout",
     "output_type": "stream",
     "text": [
      "Original number of features : 64\n",
      "Reduced number of features : 54\n"
     ]
    }
   ],
   "source": [
    "from sklearn.preprocessing import StandardScaler\n",
    "from sklearn.decomposition import PCA\n",
    "from sklearn import datasets\n",
    "\n",
    "digits = datasets.load_digits()\n",
    "# 特徵矩陣標準化\n",
    "features = StandardScaler().fit_transform(digits.data)\n",
    "# 產生能保留99%變異的PCA\n",
    "pca = PCA(n_components=.99,\n",
    "                whiten=True) # 會對每一個主成分的值進行轉換，如此就能有0平均(zero-mean)與單位變異(unit variance)\n",
    "                # svd_solver = \"randomized\" # 實做了一個尋找第一主成分的隨機演算法(stochastic algorithm)為節省時間\n",
    "# activate\n",
    "pca_features = pca.fit_transform(features)\n",
    "\n",
    "print(\"Original number of features :\", features.shape[1])\n",
    "print(\"Reduced number of features :\", pca_features.shape[1])"
   ]
  },
  {
   "cell_type": "markdown",
   "metadata": {},
   "source": [
    "#### Notes: PCA是一種非監督的技術，即不需要目標向量的資訊，只需考慮特徵矩陣即可。另外，PCA所產生的新特徵無法由人類來解讀，若要保留解釋模型的能力，以特徵選取來進行降維會比較好。\n",
    "![線性分離](img/78666551_595455054560185_8155747298551267328_n.jpg)"
   ]
  },
  {
   "cell_type": "markdown",
   "metadata": {},
   "source": [
    "### 為不可線性分離之資料作特徵縮減"
   ]
  },
  {
   "cell_type": "code",
   "execution_count": 10,
   "metadata": {},
   "outputs": [
    {
     "name": "stdout",
     "output_type": "stream",
     "text": [
      "Original number of features : 2\n",
      "Reduced number of features : 1\n"
     ]
    }
   ],
   "source": [
    "from sklearn.decomposition import PCA, KernelPCA\n",
    "from sklearn.datasets import make_circles\n",
    "# 產生線性不可分離資料\n",
    "features, _ = make_circles(n_samples=1000, random_state=1, noise=0.1, factor=0.1)\n",
    "# 套用帶徑向基函式(radius basis function, RBF)\n",
    "kpca = KernelPCA(kernel=\"rbf\", gamma=15, n_components=1)\n",
    "features_kpca = kpca.fit_transform(features)\n",
    "\n",
    "print(\"Original number of features :\", features.shape[1])\n",
    "print(\"Reduced number of features :\", features_kpca.shape[1])"
   ]
  },
  {
   "cell_type": "markdown",
   "metadata": {},
   "source": [
    "#### Notes: 標準的PCA使用線性投影以縮減特徵，若資料為線性可分，則PCA可以運作得很好，若為線性不可分則單用PCA效果較差，使用投影降維法的時候會使分類交織在一起，但是我們希望縮減為度也可以使資料線性平分，PCA_Kernel是我們的好幫手(rbf, poly, sigmoid...)，但是PCA_Kernel必須定義參數數量(如n_components=1)，還要設定Kernel本身的參數。\n",
    "![不可線性分離](img/77410285_2148243928817543_140205286072778752_n.jpg)"
   ]
  },
  {
   "cell_type": "markdown",
   "metadata": {},
   "source": [
    "### 運用類型可分性最大化縮減特徵(By LDA)"
   ]
  },
  {
   "cell_type": "code",
   "execution_count": 11,
   "metadata": {},
   "outputs": [
    {
     "name": "stdout",
     "output_type": "stream",
     "text": [
      "Original number of features : 4\n",
      "Reduced number of features : 1\n"
     ]
    }
   ],
   "source": [
    "from sklearn import datasets\n",
    "from sklearn.discriminant_analysis import LinearDiscriminantAnalysis\n",
    "iris = datasets.load_iris()\n",
    "features = iris.data\n",
    "target = iris.target\n",
    "# 產生並執行LDA，然後用它來轉換特徵\n",
    "lda = LinearDiscriminantAnalysis(n_components=1) # 代表要傳回的特徵數\n",
    "features_lda = lda.fit(features, target).transform(features)\n",
    "\n",
    "print(\"Original number of features :\", features.shape[1])\n",
    "print(\"Reduced number of features :\", features_lda.shape[1])"
   ]
  },
  {
   "cell_type": "code",
   "execution_count": 12,
   "metadata": {},
   "outputs": [
    {
     "data": {
      "text/plain": [
       "array([0.9912126])"
      ]
     },
     "execution_count": 12,
     "metadata": {},
     "output_type": "execute_result"
    }
   ],
   "source": [
    "# 檢視每一成份所解釋的變異數量\n",
    "lda.explained_variance_ratio_"
   ]
  },
  {
   "cell_type": "markdown",
   "metadata": {},
   "source": [
    "#### Notes: LDA是一種分類方法也是一種常用的維度縮減技術，相較於PCA，PCA我們只對能將資料中變異最大化的成分感興趣，而在LDA中我們還有將分類間的差異最大化這個額外的目標。\n",
    "![LDA](img/78144320_595190831217947_8467876655149350912_n.jpg)"
   ]
  },
  {
   "cell_type": "markdown",
   "metadata": {},
   "source": [
    "#### Notes: n_components的調參值技巧，先將它設為None，在用LDA傳回每一成分所解釋的變異比，是否大於threshold。"
   ]
  },
  {
   "cell_type": "code",
   "execution_count": 17,
   "metadata": {},
   "outputs": [
    {
     "data": {
      "text/plain": [
       "1"
      ]
     },
     "execution_count": 17,
     "metadata": {},
     "output_type": "execute_result"
    }
   ],
   "source": [
    "lda = LinearDiscriminantAnalysis(n_components=None)\n",
    "features_lda = lda.fit(features, target)\n",
    "\n",
    "lda_var_ratios = lda.explained_variance_ratio_\n",
    "def select_n_components(var_ratio, goal_var: float) -> int:\n",
    "    total_variance = 0.0\n",
    "    # init\n",
    "    n_components = 0\n",
    "    for explained_variance in var_ratio:\n",
    "        total_variance += explained_variance\n",
    "        n_components += 1\n",
    "        if total_variance >= goal_var:\n",
    "            break\n",
    "    return n_components\n",
    "select_n_components(lda_var_ratios, 0.95)"
   ]
  },
  {
   "cell_type": "markdown",
   "metadata": {},
   "source": [
    "### 運用矩陣分解縮減特徵-非負值特徵矩陣(By NMF)"
   ]
  },
  {
   "cell_type": "code",
   "execution_count": 19,
   "metadata": {},
   "outputs": [
    {
     "name": "stdout",
     "output_type": "stream",
     "text": [
      "Original number of features : 64\n",
      "Reduced number of features : 10\n"
     ]
    }
   ],
   "source": [
    "from sklearn.decomposition import NMF\n",
    "from sklearn import datasets\n",
    "\n",
    "digits = datasets.load_digits()\n",
    "features = digits.data\n",
    "\n",
    "nmf = NMF(n_components=10, random_state=1)\n",
    "feature_nmf = nmf.fit_transform(features)\n",
    "print(\"Original number of features :\", features.shape[1])\n",
    "print(\"Reduced number of features :\", feature_nmf.shape[1])"
   ]
  },
  {
   "cell_type": "markdown",
   "metadata": {},
   "source": [
    "#### Notes: NMF是線性維度縮減的非監督式學習，其能將特徵矩陣分解(即拆解成幾個相乘後與原矩陣相近的矩陣)成代表觀察與其特徵之潛在關係的矩陣。(拆解過後得矩陣維度會明顯小於相乘後的)給定回傳所需的特徵數，r\n",
    "$$ V \\sim WH $$\n",
    "$$V是d \\times n的特徵矩陣(d個特徵,n個觀察,且不能有負值)$$\n",
    "$$W是d \\times r的矩陣$$\n",
    "$$H是r \\times n的矩陣$$\n",
    "$$透過r值的調整，我們可以設定需要縮減的維度$$"
   ]
  },
  {
   "cell_type": "markdown",
   "metadata": {},
   "source": [
    "#### NMA特徵矩陣中不能有負值，也不會給我們輸出特徵的explained variance)"
   ]
  },
  {
   "cell_type": "markdown",
   "metadata": {},
   "source": [
    "### 在稀疏資料上縮減特徵"
   ]
  },
  {
   "cell_type": "code",
   "execution_count": 5,
   "metadata": {},
   "outputs": [],
   "source": [
    "from sklearn.preprocessing import StandardScaler\n",
    "from sklearn.decomposition import TruncatedSVD\n",
    "from scipy.sparse import csr_matrix\n",
    "from sklearn import datasets\n",
    "import numpy as np"
   ]
  },
  {
   "cell_type": "code",
   "execution_count": 6,
   "metadata": {},
   "outputs": [
    {
     "name": "stdout",
     "output_type": "stream",
     "text": [
      "Original number of features : 64\n",
      "Reduced number of features : 10\n"
     ]
    }
   ],
   "source": [
    "digits = datasets.load_digits()\n",
    "# 特徵標準化\n",
    "features = StandardScaler().fit_transform(digits.data)\n",
    "# 產生稀疏矩陣\n",
    "features_sparse = csr_matrix(features)\n",
    "# 產生TSVD\n",
    "tsvd = TruncatedSVD(n_components=10)\n",
    "# fit_transform\n",
    "features_sparse_tsvd = tsvd.fit(features_sparse).transform(features_sparse)\n",
    "# results\n",
    "print(\"Original number of features :\", features_sparse.shape[1])\n",
    "print(\"Reduced number of features :\", features_sparse_tsvd.shape[1])"
   ]
  },
  {
   "cell_type": "markdown",
   "metadata": {},
   "source": [
    "#### Notes: TSVD專門處理稀疏矩陣，PCA其實常在一個步驟中運用非截斷奇異值(SVD)。在正規的SVD中，給定d個特徵，SVD會產生d * d的因子矩陣，而TSVD則傳回n * n個(透過參數設定)"
   ]
  },
  {
   "cell_type": "code",
   "execution_count": 9,
   "metadata": {},
   "outputs": [
    {
     "data": {
      "text/plain": [
       "0.3003938535247808"
      ]
     },
     "execution_count": 9,
     "metadata": {},
     "output_type": "execute_result"
    }
   ],
   "source": [
    "tsvd.explained_variance_ratio_[:3].sum() # 前三個輸出成分解釋了約30%的原始資料變異"
   ]
  },
  {
   "cell_type": "code",
   "execution_count": 14,
   "metadata": {},
   "outputs": [
    {
     "data": {
      "text/plain": [
       "40"
      ]
     },
     "execution_count": 14,
     "metadata": {},
     "output_type": "execute_result"
    }
   ],
   "source": [
    "# 產生並執行帶有比特徵少1的TSVD\n",
    "tsvd = TruncatedSVD(n_components=features_sparse.shape[1]-1)\n",
    "features_tsvd = tsvd.fit(features)\n",
    "\n",
    "tsvd_var_ratios = tsvd.explained_variance_ratio_\n",
    "def select_n_components(var_ratio, goal_var):\n",
    "    # 設定初始已釋變異\n",
    "    total_variance = 0.0\n",
    "    # 設定初始特徵數\n",
    "    n_components = 0\n",
    "    for explained_variance in var_ratio:\n",
    "        total_variance += explained_variance\n",
    "        n_components += 1\n",
    "        if total_variance >= goal_var:\n",
    "            break\n",
    "    return n_components\n",
    "select_n_components(tsvd_var_ratios, 0.95)"
   ]
  },
  {
   "cell_type": "markdown",
   "metadata": {},
   "source": [
    "# Chapter 10"
   ]
  },
  {
   "cell_type": "markdown",
   "metadata": {},
   "source": [
    "### Feature selection : Filter, Wrapper, Embedded\n",
    "* Filter: 透過檢視統計性質來選取最好的特徵\n",
    "* Wrapper: 透過試誤法，找到能產生最高預測品質之模型的特徵子集\n",
    "* Embedded: 透過選取最佳特徵子集作為學習演算法訓練過程"
   ]
  },
  {
   "cell_type": "markdown",
   "metadata": {},
   "source": [
    "### 設定特徵變異門檻(移除低變異)"
   ]
  },
  {
   "cell_type": "code",
   "execution_count": 15,
   "metadata": {},
   "outputs": [],
   "source": [
    "from sklearn import datasets\n",
    "from sklearn.feature_selection import VarianceThreshold"
   ]
  },
  {
   "cell_type": "code",
   "execution_count": 16,
   "metadata": {},
   "outputs": [
    {
     "data": {
      "text/plain": [
       "array([[5.1, 1.4, 0.2],\n",
       "       [4.9, 1.4, 0.2],\n",
       "       [4.7, 1.3, 0.2]])"
      ]
     },
     "execution_count": 16,
     "metadata": {},
     "output_type": "execute_result"
    }
   ],
   "source": [
    "iris = datasets.load_iris()\n",
    "features = iris.data\n",
    "target = iris.target\n",
    "threshold = VarianceThreshold(threshold=.5)\n",
    "features_high_variance = threshold.fit_transform(features)\n",
    "features_high_variance[:3]"
   ]
  },
  {
   "cell_type": "markdown",
   "metadata": {},
   "source": [
    "#### Notes: Vatiance Thresholding(VT)，先計算每個特徵的變異\n",
    "$$operatorVar(x)=\\frac{1}{n} \\sum_{i=1}^{n} (x_i-\\mu)^2$$\n",
    "$$x是特徵向量，x_i是個別的特徵值，\\mu是該特徵的平均值$$"
   ]
  },
  {
   "cell_type": "code",
   "execution_count": 18,
   "metadata": {},
   "outputs": [
    {
     "data": {
      "text/plain": [
       "array([0.68112222, 0.18871289, 3.09550267, 0.57713289])"
      ]
     },
     "execution_count": 18,
     "metadata": {},
     "output_type": "execute_result"
    }
   ],
   "source": [
    "# 檢視變異\n",
    "threshold.fit(features).variances_"
   ]
  },
  {
   "cell_type": "markdown",
   "metadata": {},
   "source": [
    "#### 標準化後變異門檻無法運作"
   ]
  },
  {
   "cell_type": "code",
   "execution_count": 19,
   "metadata": {},
   "outputs": [
    {
     "data": {
      "text/plain": [
       "array([1., 1., 1., 1.])"
      ]
     },
     "execution_count": 19,
     "metadata": {},
     "output_type": "execute_result"
    }
   ],
   "source": [
    "from sklearn.preprocessing import StandardScaler\n",
    "scaler = StandardScaler()\n",
    "features_std = scaler.fit_transform(features)\n",
    "selector = VarianceThreshold()\n",
    "selector.fit(features_std).variances_"
   ]
  },
  {
   "cell_type": "markdown",
   "metadata": {},
   "source": [
    "### 設定二元特徵變異門檻值"
   ]
  },
  {
   "cell_type": "code",
   "execution_count": 20,
   "metadata": {},
   "outputs": [
    {
     "data": {
      "text/plain": [
       "array([[0],\n",
       "       [1],\n",
       "       [0],\n",
       "       [1],\n",
       "       [0]])"
      ]
     },
     "execution_count": 20,
     "metadata": {},
     "output_type": "execute_result"
    }
   ],
   "source": [
    "from sklearn.feature_selection import VarianceThreshold\n",
    "# 特徵0: 80% 分類0\n",
    "# 特徵1: 80% 分類1\n",
    "# 特徵2: 60% 分類0，40% 分類1\n",
    "features = [[0, 1, 0], \n",
    "                [0, 1, 1],\n",
    "                [0, 1, 0],\n",
    "                [0, 1, 1],\n",
    "                [1, 0, 0]]\n",
    "thresholder = VarianceThreshold(threshold=(.75)*(1-.75)) # 白努力隨機變數(p是類型1之觀察占比)\n",
    "thresholder.fit_transform(features)"
   ]
  },
  {
   "cell_type": "markdown",
   "metadata": {},
   "source": [
    "### 處理高相關的特徵"
   ]
  },
  {
   "cell_type": "code",
   "execution_count": 42,
   "metadata": {},
   "outputs": [
    {
     "data": {
      "text/html": [
       "<div>\n",
       "<style scoped>\n",
       "    .dataframe tbody tr th:only-of-type {\n",
       "        vertical-align: middle;\n",
       "    }\n",
       "\n",
       "    .dataframe tbody tr th {\n",
       "        vertical-align: top;\n",
       "    }\n",
       "\n",
       "    .dataframe thead th {\n",
       "        text-align: right;\n",
       "    }\n",
       "</style>\n",
       "<table border=\"1\" class=\"dataframe\">\n",
       "  <thead>\n",
       "    <tr style=\"text-align: right;\">\n",
       "      <th></th>\n",
       "      <th>0</th>\n",
       "      <th>2</th>\n",
       "    </tr>\n",
       "  </thead>\n",
       "  <tbody>\n",
       "    <tr>\n",
       "      <th>0</th>\n",
       "      <td>1</td>\n",
       "      <td>1</td>\n",
       "    </tr>\n",
       "    <tr>\n",
       "      <th>1</th>\n",
       "      <td>2</td>\n",
       "      <td>0</td>\n",
       "    </tr>\n",
       "    <tr>\n",
       "      <th>2</th>\n",
       "      <td>3</td>\n",
       "      <td>1</td>\n",
       "    </tr>\n",
       "    <tr>\n",
       "      <th>3</th>\n",
       "      <td>4</td>\n",
       "      <td>0</td>\n",
       "    </tr>\n",
       "    <tr>\n",
       "      <th>4</th>\n",
       "      <td>5</td>\n",
       "      <td>1</td>\n",
       "    </tr>\n",
       "    <tr>\n",
       "      <th>5</th>\n",
       "      <td>6</td>\n",
       "      <td>0</td>\n",
       "    </tr>\n",
       "    <tr>\n",
       "      <th>6</th>\n",
       "      <td>7</td>\n",
       "      <td>1</td>\n",
       "    </tr>\n",
       "    <tr>\n",
       "      <th>7</th>\n",
       "      <td>8</td>\n",
       "      <td>0</td>\n",
       "    </tr>\n",
       "    <tr>\n",
       "      <th>8</th>\n",
       "      <td>9</td>\n",
       "      <td>1</td>\n",
       "    </tr>\n",
       "  </tbody>\n",
       "</table>\n",
       "</div>"
      ],
      "text/plain": [
       "   0  2\n",
       "0  1  1\n",
       "1  2  0\n",
       "2  3  1\n",
       "3  4  0\n",
       "4  5  1\n",
       "5  6  0\n",
       "6  7  1\n",
       "7  8  0\n",
       "8  9  1"
      ]
     },
     "execution_count": 42,
     "metadata": {},
     "output_type": "execute_result"
    }
   ],
   "source": [
    "import pandas as pd\n",
    "import numpy as np\n",
    "features = np.array([[1, 1, 1],\n",
    "                             [2, 2, 0],\n",
    "                             [3, 3, 1],\n",
    "                             [4, 4, 0],\n",
    "                             [5, 5, 1],\n",
    "                             [6, 6, 0],\n",
    "                             [7, 7, 1],\n",
    "                             [8, 7, 0],\n",
    "                             [9, 7, 1]])\n",
    "df = pd.DataFrame(features)\n",
    "# 產生相關矩陣\n",
    "corr_matrix = df.corr().abs()\n",
    "# 相關矩陣上三角\n",
    "upper = corr_matrix.where(np.triu(np.ones(corr_matrix.shape), k=1).astype(np.bool))# 轉成True, False 給np.where\n",
    "# 找出相關性高於0.95之特徵行的索引\n",
    "to_drop = [column for column in upper.columns if any(upper[column] > 0.95)]\n",
    "df.drop(df.columns[to_drop], axis=1)"
   ]
  },
  {
   "cell_type": "markdown",
   "metadata": {},
   "source": [
    "#### Notes: 對角線右上角"
   ]
  },
  {
   "cell_type": "code",
   "execution_count": 35,
   "metadata": {},
   "outputs": [
    {
     "data": {
      "text/plain": [
       "array([[0., 1., 1.],\n",
       "       [0., 0., 1.],\n",
       "       [0., 0., 0.]])"
      ]
     },
     "execution_count": 35,
     "metadata": {},
     "output_type": "execute_result"
    }
   ],
   "source": [
    "np.triu(np.ones(corr_matrix.shape), k=1).astype(np.bool) # 且轉成True, False "
   ]
  },
  {
   "cell_type": "markdown",
   "metadata": {},
   "source": [
    "#### 若兩特徵高度相關，則其內含的資訊將十分類似(redundant)。"
   ]
  },
  {
   "cell_type": "markdown",
   "metadata": {},
   "source": [
    "### 移除不相關特徵以進行分類"
   ]
  },
  {
   "cell_type": "code",
   "execution_count": 44,
   "metadata": {},
   "outputs": [
    {
     "name": "stdout",
     "output_type": "stream",
     "text": [
      "Original number of features: 4\n",
      "Reduced number of features: 2\n"
     ]
    }
   ],
   "source": [
    "from sklearn.datasets import load_iris\n",
    "from sklearn.feature_selection import SelectKBest\n",
    "from sklearn.feature_selection import chi2, f_classif\n",
    "iris = load_iris()\n",
    "features = iris.data\n",
    "target = iris.target\n",
    "\n",
    "# 轉成整數，將其轉為類別\n",
    "features = features.astype(int)\n",
    "\n",
    "# 選取兩個帶有最高卡方統計量的特徵\n",
    "chi2_selector = SelectKBest(chi2, k=2)\n",
    "features_kbest = chi2_selector.fit_transform(features, target)\n",
    "\n",
    "print(\"Original number of features:\", features.shape[1])\n",
    "print(\"Reduced number of features:\", features_kbest.shape[1])"
   ]
  },
  {
   "cell_type": "markdown",
   "metadata": {},
   "source": [
    "#### 若特徵是數量型的，則計算每一個特徵與目標向量的ANOVA F值"
   ]
  },
  {
   "cell_type": "code",
   "execution_count": 45,
   "metadata": {},
   "outputs": [
    {
     "name": "stdout",
     "output_type": "stream",
     "text": [
      "Original number of features: 4\n",
      "Reduced number of features: 2\n"
     ]
    }
   ],
   "source": [
    "fvalue_selector = SelectKBest(f_classif, k=2)\n",
    "features_kbest = fvalue_selector.fit_transform(features, target)\n",
    "print(\"Original number of features:\", features.shape[1])\n",
    "print(\"Reduced number of features:\", features_kbest.shape[1])"
   ]
  },
  {
   "cell_type": "markdown",
   "metadata": {},
   "source": [
    "#### 利用SelectPercentile 選取前百分之n的特徵"
   ]
  },
  {
   "cell_type": "code",
   "execution_count": 49,
   "metadata": {},
   "outputs": [
    {
     "name": "stdout",
     "output_type": "stream",
     "text": [
      "Original number of features: 4\n",
      "Reduced number of features: 3\n"
     ]
    }
   ],
   "source": [
    "from sklearn.feature_selection import SelectPercentile\n",
    "fvalue_selector = SelectPercentile(f_classif, percentile=75)\n",
    "features_kbest = fvalue_selector.fit_transform(features, target)\n",
    "print(\"Original number of features:\", features.shape[1])\n",
    "print(\"Reduced number of features:\", features_kbest.shape[1])"
   ]
  },
  {
   "cell_type": "markdown",
   "metadata": {},
   "source": [
    "#### Notes: 卡方統計量檢驗二類型向量的獨立性，這個統計量是類型特徵每一類所觀察到的觀察數與若該特徵與目標向量為獨立時(即無關係)的預期值差。\n",
    "#### *特徵選取運用卡方時，目標向量與特徵都要是類型的。且所有數值不能為負值*\n",
    "#### *若要處理數值型特徵，我們可以運用f_classif來計算每個特徵與目標向量的ANOVA F值*"
   ]
  },
  {
   "cell_type": "markdown",
   "metadata": {},
   "source": [
    "$$ \\chi^2 = \\sum_{i=1}^{n}  \\frac {(O_i-E_i)^2}{E_i}$$\n",
    "$$O_i是類型i的觀察數，E_i為若該特徵與目標向量不存在關係時，類型i的預期觀察數。$$"
   ]
  },
  {
   "cell_type": "markdown",
   "metadata": {},
   "source": [
    "### 遞迴特徵剔除(使用cross-Validation)"
   ]
  },
  {
   "cell_type": "code",
   "execution_count": 59,
   "metadata": {},
   "outputs": [
    {
     "data": {
      "text/plain": [
       "array([[ 0.00850799,  0.7031277 ],\n",
       "       [-1.07500204,  2.56148527],\n",
       "       [ 1.37940721, -1.77039484],\n",
       "       ...,\n",
       "       [-0.80331656, -1.60648007],\n",
       "       [ 0.39508844, -1.34564911],\n",
       "       [-0.55383035,  0.82880112]])"
      ]
     },
     "execution_count": 59,
     "metadata": {},
     "output_type": "execute_result"
    }
   ],
   "source": [
    "import warnings\n",
    "from sklearn.datasets import make_regression\n",
    "from sklearn.feature_selection import RFECV\n",
    "from sklearn import datasets, linear_model\n",
    "warnings.filterwarnings(\"ignore\")\n",
    "features, target = make_regression(n_samples = 10000, n_features = 100, n_informative= 2, random_state=1)\n",
    "# 產生線性迴歸\n",
    "ols = linear_model.LinearRegression()\n",
    "# 循環剔除特徵\n",
    "rfecv = RFECV(estimator=ols, step=1, scoring=\"neg_mean_squared_error\")\n",
    "rfecv.fit(features, target)\n",
    "rfecv.transform(features)"
   ]
  },
  {
   "cell_type": "code",
   "execution_count": 60,
   "metadata": {},
   "outputs": [
    {
     "data": {
      "text/plain": [
       "2"
      ]
     },
     "execution_count": 60,
     "metadata": {},
     "output_type": "execute_result"
    }
   ],
   "source": [
    "# 最佳特徵數\n",
    "rfecv.n_features_"
   ]
  },
  {
   "cell_type": "code",
   "execution_count": 61,
   "metadata": {},
   "outputs": [
    {
     "data": {
      "text/plain": [
       "array([False, False, False, False, False,  True, False, False, False,\n",
       "       False, False, False, False, False, False, False, False, False,\n",
       "       False, False, False, False, False, False, False, False, False,\n",
       "       False, False, False, False, False, False, False, False, False,\n",
       "       False, False, False,  True, False, False, False, False, False,\n",
       "       False, False, False, False, False, False, False, False, False,\n",
       "       False, False, False, False, False, False, False, False, False,\n",
       "       False, False, False, False, False, False, False, False, False,\n",
       "       False, False, False, False, False, False, False, False, False,\n",
       "       False, False, False, False, False, False, False, False, False,\n",
       "       False, False, False, False, False, False, False, False, False,\n",
       "       False])"
      ]
     },
     "execution_count": 61,
     "metadata": {},
     "output_type": "execute_result"
    }
   ],
   "source": [
    "# 哪些類型最佳\n",
    "rfecv.support_"
   ]
  },
  {
   "cell_type": "code",
   "execution_count": 62,
   "metadata": {},
   "outputs": [
    {
     "data": {
      "text/plain": [
       "array([82, 84, 74, 33, 81,  1, 18, 46, 57, 67, 45,  7, 58, 52, 78,  8,  5,\n",
       "       73, 31, 11, 43, 14, 34, 83, 21, 96, 20, 41, 94, 90, 71, 47, 30, 27,\n",
       "       89, 50, 25, 69, 86,  1, 76, 19, 97, 88,  9, 16, 23, 80, 75, 54, 91,\n",
       "       12, 65, 59, 24, 32,  4, 26, 10, 42, 72,  2, 87, 40, 66,  3, 92, 17,\n",
       "       39, 35, 13, 79, 38,  6, 53, 60, 22, 61, 28, 95, 93, 36, 99, 48, 51,\n",
       "       68, 37, 70, 15, 98, 56, 29, 44, 63, 49, 64, 77, 85, 55, 62])"
      ]
     },
     "execution_count": 62,
     "metadata": {},
     "output_type": "execute_result"
    }
   ],
   "source": [
    "# 特徵排名\n",
    "rfecv.ranking_"
   ]
  },
  {
   "cell_type": "markdown",
   "metadata": {},
   "source": [
    "#### Notes: RFE的原理像是線性迴歸或是SVM，重複訓練一個內含一些參數(權重或係數)的模型。第一次訓練模型時，將所有的特徵都算進來。然後，會找到帶有最小參數的特徵，最不重要的就把他踢除。"
   ]
  }
 ],
 "metadata": {
  "kernelspec": {
   "display_name": "Python 3",
   "language": "python",
   "name": "python3"
  },
  "language_info": {
   "codemirror_mode": {
    "name": "ipython",
    "version": 3
   },
   "file_extension": ".py",
   "mimetype": "text/x-python",
   "name": "python",
   "nbconvert_exporter": "python",
   "pygments_lexer": "ipython3",
   "version": "3.7.5"
  }
 },
 "nbformat": 4,
 "nbformat_minor": 2
}
