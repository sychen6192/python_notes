{
 "cells": [
  {
   "cell_type": "markdown",
   "metadata": {},
   "source": [
    "# Chapter 9"
   ]
  },
  {
   "cell_type": "markdown",
   "metadata": {},
   "source": [
    "### 使用主成份縮減特徵(且保留了變異)"
   ]
  },
  {
   "cell_type": "code",
   "execution_count": 8,
   "metadata": {},
   "outputs": [
    {
     "name": "stdout",
     "output_type": "stream",
     "text": [
      "Original number of features : 64\n",
      "Reduced number of features : 54\n"
     ]
    }
   ],
   "source": [
    "from sklearn.preprocessing import StandardScaler\n",
    "from sklearn.decomposition import PCA\n",
    "from sklearn import datasets\n",
    "\n",
    "digits = datasets.load_digits()\n",
    "# 特徵矩陣標準化\n",
    "features = StandardScaler().fit_transform(digits.data)\n",
    "# 產生能保留99%變異的PCA\n",
    "pca = PCA(n_components=.99,\n",
    "                whiten=True) # 會對每一個主成分的值進行轉換，如此就能有0平均(zero-mean)與單位變異(unit variance)\n",
    "                # svd_solver = \"randomized\" # 實做了一個尋找第一主成分的隨機演算法(stochastic algorithm)為節省時間\n",
    "# activate\n",
    "pca_features = pca.fit_transform(features)\n",
    "\n",
    "print(\"Original number of features :\", features.shape[1])\n",
    "print(\"Reduced number of features :\", pca_features.shape[1])"
   ]
  },
  {
   "cell_type": "markdown",
   "metadata": {},
   "source": [
    "#### Notes: PCA是一種非監督的技術，即不需要目標向量的資訊，只需考慮特徵矩陣即可。另外，PCA所產生的新特徵無法由人類來解讀，若要保留解釋模型的能力，以特徵選取來進行降維會比較好。\n",
    "![線性分離](img/78666551_595455054560185_8155747298551267328_n.jpg)"
   ]
  },
  {
   "cell_type": "markdown",
   "metadata": {},
   "source": [
    "### 為不可線性分離之資料作特徵縮減"
   ]
  },
  {
   "cell_type": "code",
   "execution_count": 10,
   "metadata": {},
   "outputs": [
    {
     "name": "stdout",
     "output_type": "stream",
     "text": [
      "Original number of features : 2\n",
      "Reduced number of features : 1\n"
     ]
    }
   ],
   "source": [
    "from sklearn.decomposition import PCA, KernelPCA\n",
    "from sklearn.datasets import make_circles\n",
    "# 產生線性不可分離資料\n",
    "features, _ = make_circles(n_samples=1000, random_state=1, noise=0.1, factor=0.1)\n",
    "# 套用帶徑向基函式(radius basis function, RBF)\n",
    "kpca = KernelPCA(kernel=\"rbf\", gamma=15, n_components=1)\n",
    "features_kpca = kpca.fit_transform(features)\n",
    "\n",
    "print(\"Original number of features :\", features.shape[1])\n",
    "print(\"Reduced number of features :\", features_kpca.shape[1])"
   ]
  },
  {
   "cell_type": "markdown",
   "metadata": {},
   "source": [
    "#### Notes: 標準的PCA使用線性投影以縮減特徵，若資料為線性可分，則PCA可以運作得很好，若為線性不可分則單用PCA效果較差，使用投影降維法的時候會使分類交織在一起，但是我們希望縮減為度也可以使資料線性平分，PCA_Kernel是我們的好幫手(rbf, poly, sigmoid...)，但是PCA_Kernel必須定義參數數量(如n_components=1)，還要設定Kernel本身的參數。\n",
    "![不可線性分離](img/77410285_2148243928817543_140205286072778752_n.jpg)"
   ]
  },
  {
   "cell_type": "markdown",
   "metadata": {},
   "source": [
    "### 運用類型可分性最大化縮減特徵(By LDA)"
   ]
  },
  {
   "cell_type": "code",
   "execution_count": 11,
   "metadata": {},
   "outputs": [
    {
     "name": "stdout",
     "output_type": "stream",
     "text": [
      "Original number of features : 4\n",
      "Reduced number of features : 1\n"
     ]
    }
   ],
   "source": [
    "from sklearn import datasets\n",
    "from sklearn.discriminant_analysis import LinearDiscriminantAnalysis\n",
    "iris = datasets.load_iris()\n",
    "features = iris.data\n",
    "target = iris.target\n",
    "# 產生並執行LDA，然後用它來轉換特徵\n",
    "lda = LinearDiscriminantAnalysis(n_components=1) # 代表要傳回的特徵數\n",
    "features_lda = lda.fit(features, target).transform(features)\n",
    "\n",
    "print(\"Original number of features :\", features.shape[1])\n",
    "print(\"Reduced number of features :\", features_lda.shape[1])"
   ]
  },
  {
   "cell_type": "code",
   "execution_count": 12,
   "metadata": {},
   "outputs": [
    {
     "data": {
      "text/plain": [
       "array([0.9912126])"
      ]
     },
     "execution_count": 12,
     "metadata": {},
     "output_type": "execute_result"
    }
   ],
   "source": [
    "# 檢視每一成份所解釋的變異數量\n",
    "lda.explained_variance_ratio_"
   ]
  },
  {
   "cell_type": "markdown",
   "metadata": {},
   "source": [
    "#### Notes: LDA是一種分類方法也是一種常用的維度縮減技術，相較於PCA，PCA我們只對能將資料中變異最大化的成分感興趣，而在LDA中我們還有將分類間的差異最大化這個額外的目標。\n",
    "![LDA](img/78144320_595190831217947_8467876655149350912_n.jpg)"
   ]
  },
  {
   "cell_type": "markdown",
   "metadata": {},
   "source": [
    "#### Notes: n_components的調參值技巧，先將它設為None，在用LDA傳回每一成分所解釋的變異比，是否大於threshold。"
   ]
  },
  {
   "cell_type": "code",
   "execution_count": 17,
   "metadata": {},
   "outputs": [
    {
     "data": {
      "text/plain": [
       "1"
      ]
     },
     "execution_count": 17,
     "metadata": {},
     "output_type": "execute_result"
    }
   ],
   "source": [
    "lda = LinearDiscriminantAnalysis(n_components=None)\n",
    "features_lda = lda.fit(features, target)\n",
    "\n",
    "lda_var_ratios = lda.explained_variance_ratio_\n",
    "def select_n_components(var_ratio, goal_var: float) -> int:\n",
    "    total_variance = 0.0\n",
    "    # init\n",
    "    n_components = 0\n",
    "    for explained_variance in var_ratio:\n",
    "        total_variance += explained_variance\n",
    "        n_components += 1\n",
    "        if total_variance >= goal_var:\n",
    "            break\n",
    "    return n_components\n",
    "select_n_components(lda_var_ratios, 0.95)"
   ]
  },
  {
   "cell_type": "markdown",
   "metadata": {},
   "source": [
    "### 運用矩陣分解縮減特徵-非負值特徵矩陣(By NMF)"
   ]
  },
  {
   "cell_type": "code",
   "execution_count": 19,
   "metadata": {},
   "outputs": [
    {
     "name": "stdout",
     "output_type": "stream",
     "text": [
      "Original number of features : 64\n",
      "Reduced number of features : 10\n"
     ]
    }
   ],
   "source": [
    "from sklearn.decomposition import NMF\n",
    "from sklearn import datasets\n",
    "\n",
    "digits = datasets.load_digits()\n",
    "features = digits.data\n",
    "\n",
    "nmf = NMF(n_components=10, random_state=1)\n",
    "feature_nmf = nmf.fit_transform(features)\n",
    "print(\"Original number of features :\", features.shape[1])\n",
    "print(\"Reduced number of features :\", feature_nmf.shape[1])"
   ]
  },
  {
   "cell_type": "markdown",
   "metadata": {},
   "source": [
    "#### Notes: NMF是線性維度縮減的非監督式學習，其能將特徵矩陣分解(即拆解成幾個相乘後與原矩陣相近的矩陣)成代表觀察與其特徵之潛在關係的矩陣。(拆解過後得矩陣維度會明顯小於相乘後的)給定回傳所需的特徵數，r\n",
    "$$ V \\sim WH $$\n",
    "$$V是d \\times n的特徵矩陣(d個特徵,n個觀察,且不能有負值)$$\n",
    "$$W是d \\times r的矩陣$$\n",
    "$$H是r \\times n的矩陣$$\n",
    "$$透過r值的調整，我們可以設定需要縮減的維度$$"
   ]
  },
  {
   "cell_type": "markdown",
   "metadata": {},
   "source": [
    "#### NMA特徵矩陣中不能有負值，也不會給我們輸出特徵的explained variance)"
   ]
  },
  {
   "cell_type": "markdown",
   "metadata": {},
   "source": [
    "### 在稀疏資料上縮減特徵"
   ]
  },
  {
   "cell_type": "code",
   "execution_count": 5,
   "metadata": {},
   "outputs": [],
   "source": [
    "from sklearn.preprocessing import StandardScaler\n",
    "from sklearn.decomposition import TruncatedSVD\n",
    "from scipy.sparse import csr_matrix\n",
    "from sklearn import datasets\n",
    "import numpy as np"
   ]
  },
  {
   "cell_type": "code",
   "execution_count": 6,
   "metadata": {},
   "outputs": [
    {
     "name": "stdout",
     "output_type": "stream",
     "text": [
      "Original number of features : 64\n",
      "Reduced number of features : 10\n"
     ]
    }
   ],
   "source": [
    "digits = datasets.load_digits()\n",
    "# 特徵標準化\n",
    "features = StandardScaler().fit_transform(digits.data)\n",
    "# 產生稀疏矩陣\n",
    "features_sparse = csr_matrix(features)\n",
    "# 產生TSVD\n",
    "tsvd = TruncatedSVD(n_components=10)\n",
    "# fit_transform\n",
    "features_sparse_tsvd = tsvd.fit(features_sparse).transform(features_sparse)\n",
    "# results\n",
    "print(\"Original number of features :\", features_sparse.shape[1])\n",
    "print(\"Reduced number of features :\", features_sparse_tsvd.shape[1])"
   ]
  },
  {
   "cell_type": "markdown",
   "metadata": {},
   "source": [
    "#### Notes: TSVD專門處理稀疏矩陣，PCA其實常在一個步驟中運用非截斷奇異值(SVD)。在正規的SVD中，給定d個特徵，SVD會產生d * d的因子矩陣，而TSVD則傳回n * n個(透過參數設定)"
   ]
  },
  {
   "cell_type": "code",
   "execution_count": 9,
   "metadata": {},
   "outputs": [
    {
     "data": {
      "text/plain": [
       "0.3003938535247808"
      ]
     },
     "execution_count": 9,
     "metadata": {},
     "output_type": "execute_result"
    }
   ],
   "source": [
    "tsvd.explained_variance_ratio_[:3].sum() # 前三個輸出成分解釋了約30%的原始資料變異"
   ]
  },
  {
   "cell_type": "code",
   "execution_count": 14,
   "metadata": {},
   "outputs": [
    {
     "data": {
      "text/plain": [
       "40"
      ]
     },
     "execution_count": 14,
     "metadata": {},
     "output_type": "execute_result"
    }
   ],
   "source": [
    "# 產生並執行帶有比特徵少1的TSVD\n",
    "tsvd = TruncatedSVD(n_components=features_sparse.shape[1]-1)\n",
    "features_tsvd = tsvd.fit(features)\n",
    "\n",
    "tsvd_var_ratios = tsvd.explained_variance_ratio_\n",
    "def select_n_components(var_ratio, goal_var):\n",
    "    # 設定初始已釋變異\n",
    "    total_variance = 0.0\n",
    "    # 設定初始特徵數\n",
    "    n_components = 0\n",
    "    for explained_variance in var_ratio:\n",
    "        total_variance += explained_variance\n",
    "        n_components += 1\n",
    "        if total_variance >= goal_var:\n",
    "            break\n",
    "    return n_components\n",
    "select_n_components(tsvd_var_ratios, 0.95)"
   ]
  },
  {
   "cell_type": "markdown",
   "metadata": {},
   "source": [
    "# Chapter 10"
   ]
  },
  {
   "cell_type": "markdown",
   "metadata": {},
   "source": [
    "### Feature selection : Filter, Wrapper, Embedded\n",
    "* Filter: 透過檢視統計性質來選取最好的特徵\n",
    "* Wrapper: 透過試誤法，找到能產生最高預測品質之模型的特徵子集\n",
    "* Embedded: 透過選取最佳特徵子集作為學習演算法訓練過程"
   ]
  },
  {
   "cell_type": "markdown",
   "metadata": {},
   "source": [
    "### 設定特徵變異門檻(移除低變異)"
   ]
  },
  {
   "cell_type": "code",
   "execution_count": null,
   "metadata": {},
   "outputs": [],
   "source": []
  }
 ],
 "metadata": {
  "kernelspec": {
   "display_name": "Python 3",
   "language": "python",
   "name": "python3"
  },
  "language_info": {
   "codemirror_mode": {
    "name": "ipython",
    "version": 3
   },
   "file_extension": ".py",
   "mimetype": "text/x-python",
   "name": "python",
   "nbconvert_exporter": "python",
   "pygments_lexer": "ipython3",
   "version": "3.7.5"
  }
 },
 "nbformat": 4,
 "nbformat_minor": 2
}
